{
 "cells": [
  {
   "cell_type": "markdown",
   "id": "c31d4cef",
   "metadata": {},
   "source": [
    "# creating array using numpy"
   ]
  },
  {
   "cell_type": "raw",
   "id": "dbd5141f",
   "metadata": {},
   "source": [
    ".NumPy is a Python library used for working with arrays.\n",
    ".It also has functions for working in domain of linear algebra, fourier transform, and matrices."
   ]
  },
  {
   "cell_type": "code",
   "execution_count": 2,
   "id": "ca36470c",
   "metadata": {},
   "outputs": [
    {
     "data": {
      "text/plain": [
       "array([0, 1, 2, 3, 4, 5, 6, 7, 8, 9])"
      ]
     },
     "execution_count": 2,
     "metadata": {},
     "output_type": "execute_result"
    }
   ],
   "source": [
    "import numpy as np\n",
    "array= np. arange(10)\n",
    "array"
   ]
  },
  {
   "cell_type": "markdown",
   "id": "16d4527d",
   "metadata": {},
   "source": [
    "# indexing of array"
   ]
  },
  {
   "cell_type": "code",
   "execution_count": 3,
   "id": "745d67c7",
   "metadata": {},
   "outputs": [
    {
     "data": {
      "text/plain": [
       "0"
      ]
     },
     "execution_count": 3,
     "metadata": {},
     "output_type": "execute_result"
    }
   ],
   "source": [
    "array[0]"
   ]
  },
  {
   "cell_type": "code",
   "execution_count": 11,
   "id": "a1df05c9",
   "metadata": {},
   "outputs": [
    {
     "data": {
      "text/plain": [
       "7"
      ]
     },
     "execution_count": 11,
     "metadata": {},
     "output_type": "execute_result"
    }
   ],
   "source": [
    "array[-3]"
   ]
  },
  {
   "cell_type": "code",
   "execution_count": 12,
   "id": "9239c278",
   "metadata": {},
   "outputs": [
    {
     "data": {
      "text/plain": [
       "4"
      ]
     },
     "execution_count": 12,
     "metadata": {},
     "output_type": "execute_result"
    }
   ],
   "source": [
    "array[4]"
   ]
  },
  {
   "cell_type": "code",
   "execution_count": 13,
   "id": "1120e8c6",
   "metadata": {},
   "outputs": [
    {
     "data": {
      "text/plain": [
       "6"
      ]
     },
     "execution_count": 13,
     "metadata": {},
     "output_type": "execute_result"
    }
   ],
   "source": [
    "array[-4]"
   ]
  },
  {
   "cell_type": "code",
   "execution_count": 14,
   "id": "ac37e1cb",
   "metadata": {},
   "outputs": [
    {
     "data": {
      "text/plain": [
       "9"
      ]
     },
     "execution_count": 14,
     "metadata": {},
     "output_type": "execute_result"
    }
   ],
   "source": [
    "array[-1]"
   ]
  },
  {
   "cell_type": "markdown",
   "id": "4ba8d6b8",
   "metadata": {},
   "source": [
    "# slicing of array"
   ]
  },
  {
   "cell_type": "code",
   "execution_count": 10,
   "id": "4b478e6a",
   "metadata": {},
   "outputs": [
    {
     "data": {
      "text/plain": [
       "array([0, 1, 2, 3])"
      ]
     },
     "execution_count": 10,
     "metadata": {},
     "output_type": "execute_result"
    }
   ],
   "source": [
    "array[0:4]"
   ]
  },
  {
   "cell_type": "code",
   "execution_count": 16,
   "id": "8484bd2c",
   "metadata": {},
   "outputs": [
    {
     "data": {
      "text/plain": [
       "array([3, 4, 5, 6, 7])"
      ]
     },
     "execution_count": 16,
     "metadata": {},
     "output_type": "execute_result"
    }
   ],
   "source": [
    "array[-7:-2]"
   ]
  },
  {
   "cell_type": "code",
   "execution_count": 6,
   "id": "e282ebab",
   "metadata": {},
   "outputs": [
    {
     "data": {
      "text/plain": [
       "array([2, 3, 4, 5, 6, 7, 8, 9])"
      ]
     },
     "execution_count": 6,
     "metadata": {},
     "output_type": "execute_result"
    }
   ],
   "source": [
    "array[2:]"
   ]
  },
  {
   "cell_type": "code",
   "execution_count": 17,
   "id": "82fc8ab3",
   "metadata": {},
   "outputs": [
    {
     "data": {
      "text/plain": [
       "array([0, 1, 2, 3, 4])"
      ]
     },
     "execution_count": 17,
     "metadata": {},
     "output_type": "execute_result"
    }
   ],
   "source": [
    "array[:5]"
   ]
  },
  {
   "cell_type": "code",
   "execution_count": 18,
   "id": "273ee50d",
   "metadata": {},
   "outputs": [
    {
     "data": {
      "text/plain": [
       "array([0, 1, 2, 3, 4, 5, 6, 7, 8, 9])"
      ]
     },
     "execution_count": 18,
     "metadata": {},
     "output_type": "execute_result"
    }
   ],
   "source": [
    "array[:]"
   ]
  },
  {
   "cell_type": "markdown",
   "id": "64c4863f",
   "metadata": {},
   "source": [
    "# broadcasting"
   ]
  },
  {
   "cell_type": "code",
   "execution_count": 20,
   "id": "e2ea1666",
   "metadata": {},
   "outputs": [],
   "source": [
    "#broadcasting refers to the ability of NumPy to treat arrays of different shapes during arithmetic operations. "
   ]
  },
  {
   "cell_type": "code",
   "execution_count": 21,
   "id": "18dc6595",
   "metadata": {},
   "outputs": [
    {
     "data": {
      "text/plain": [
       "array([5, 6, 7, 8, 9])"
      ]
     },
     "execution_count": 21,
     "metadata": {},
     "output_type": "execute_result"
    }
   ],
   "source": [
    "portion=array[5:]\n",
    "portion"
   ]
  },
  {
   "cell_type": "code",
   "execution_count": 25,
   "id": "22ad6353",
   "metadata": {},
   "outputs": [
    {
     "data": {
      "text/plain": [
       "array([10, 10, 10, 10, 10])"
      ]
     },
     "execution_count": 25,
     "metadata": {},
     "output_type": "execute_result"
    }
   ],
   "source": [
    "portion[:]=10\n",
    "portion"
   ]
  },
  {
   "cell_type": "code",
   "execution_count": 26,
   "id": "5906e202",
   "metadata": {},
   "outputs": [
    {
     "data": {
      "text/plain": [
       "array([ 0,  1,  2,  3,  4, 10, 10, 10, 10, 10])"
      ]
     },
     "execution_count": 26,
     "metadata": {},
     "output_type": "execute_result"
    }
   ],
   "source": [
    "array"
   ]
  },
  {
   "cell_type": "code",
   "execution_count": 61,
   "id": "7feff62c",
   "metadata": {},
   "outputs": [
    {
     "data": {
      "text/plain": [
       "(10,)"
      ]
     },
     "execution_count": 61,
     "metadata": {},
     "output_type": "execute_result"
    }
   ],
   "source": [
    "array.shape"
   ]
  },
  {
   "cell_type": "code",
   "execution_count": 29,
   "id": "c89bff56",
   "metadata": {},
   "outputs": [
    {
     "data": {
      "text/plain": [
       "array([ 10,  40,  90, 160])"
      ]
     },
     "execution_count": 29,
     "metadata": {},
     "output_type": "execute_result"
    }
   ],
   "source": [
    "a = np.array([1,2,3,4]) \n",
    "b = np.array([10,20,30,40]) \n",
    "c = a * b  \n",
    "c"
   ]
  },
  {
   "cell_type": "markdown",
   "id": "4e0e4215",
   "metadata": {},
   "source": [
    "# Matrix"
   ]
  },
  {
   "cell_type": "code",
   "execution_count": 27,
   "id": "46f3f3e7",
   "metadata": {},
   "outputs": [
    {
     "data": {
      "text/plain": [
       "array([[2, 3, 4, 5],\n",
       "       [3, 4, 5, 6],\n",
       "       [5, 6, 7, 8]])"
      ]
     },
     "execution_count": 27,
     "metadata": {},
     "output_type": "execute_result"
    }
   ],
   "source": [
    "#creating matrix using numpy\n",
    "array2=np.array(([2,3,4,5],[3,4,5,6],[5,6,7,8]))\n",
    "array2"
   ]
  },
  {
   "cell_type": "code",
   "execution_count": 6,
   "id": "bb844c4f",
   "metadata": {},
   "outputs": [
    {
     "data": {
      "text/plain": [
       "array([[23,  3, 56, 86],\n",
       "       [ 8, 32, 78,  3],\n",
       "       [ 6, 46, 89, 54],\n",
       "       [79, 43, 23, 76]])"
      ]
     },
     "execution_count": 6,
     "metadata": {},
     "output_type": "execute_result"
    }
   ],
   "source": [
    "matrix1 = np.array([[23,3,56,86,8,32,78,3,6,46,89,54,79,43,23,76]]).reshape(4,4)\n",
    "matrix1"
   ]
  },
  {
   "cell_type": "code",
   "execution_count": 8,
   "id": "830b54e1",
   "metadata": {},
   "outputs": [
    {
     "data": {
      "text/plain": [
       "matrix([[22, 23],\n",
       "        [23, 24]])"
      ]
     },
     "execution_count": 8,
     "metadata": {},
     "output_type": "execute_result"
    }
   ],
   "source": [
    "a = np.matrix('22 23; 23 24')\n",
    "a"
   ]
  },
  {
   "cell_type": "markdown",
   "id": "6b5c8cd9",
   "metadata": {},
   "source": [
    "# matrix indexing"
   ]
  },
  {
   "cell_type": "code",
   "execution_count": 31,
   "id": "4da26b65",
   "metadata": {},
   "outputs": [
    {
     "data": {
      "text/plain": [
       "array([2, 3, 4, 5])"
      ]
     },
     "execution_count": 31,
     "metadata": {},
     "output_type": "execute_result"
    }
   ],
   "source": [
    "# to get 1st row \n",
    "array2[0]"
   ]
  },
  {
   "cell_type": "code",
   "execution_count": 47,
   "id": "be1204ab",
   "metadata": {},
   "outputs": [
    {
     "data": {
      "text/plain": [
       "array([[2, 3, 4, 5],\n",
       "       [3, 4, 5, 6]])"
      ]
     },
     "execution_count": 47,
     "metadata": {},
     "output_type": "execute_result"
    }
   ],
   "source": [
    "array2[0:2]"
   ]
  },
  {
   "cell_type": "code",
   "execution_count": 49,
   "id": "fe6bbb19",
   "metadata": {},
   "outputs": [
    {
     "data": {
      "text/plain": [
       "array([[2, 3, 4, 5],\n",
       "       [3, 4, 5, 6]])"
      ]
     },
     "execution_count": 49,
     "metadata": {},
     "output_type": "execute_result"
    }
   ],
   "source": [
    "array2[-3:-1]"
   ]
  },
  {
   "cell_type": "code",
   "execution_count": 50,
   "id": "66090451",
   "metadata": {},
   "outputs": [
    {
     "data": {
      "text/plain": [
       "array([[2, 3, 4, 5],\n",
       "       [3, 4, 5, 6],\n",
       "       [5, 6, 7, 8]])"
      ]
     },
     "execution_count": 50,
     "metadata": {},
     "output_type": "execute_result"
    }
   ],
   "source": [
    "array2[:]"
   ]
  },
  {
   "cell_type": "code",
   "execution_count": 117,
   "id": "38d235d3",
   "metadata": {},
   "outputs": [
    {
     "data": {
      "text/plain": [
       "8"
      ]
     },
     "execution_count": 117,
     "metadata": {},
     "output_type": "execute_result"
    }
   ],
   "source": [
    "# to get specific element \n",
    "array2[2][3]"
   ]
  },
  {
   "cell_type": "markdown",
   "id": "753ec63a",
   "metadata": {},
   "source": [
    "# slicing of matrix"
   ]
  },
  {
   "cell_type": "code",
   "execution_count": 43,
   "id": "52d4f0b0",
   "metadata": {},
   "outputs": [
    {
     "data": {
      "text/plain": [
       "array([[4, 5, 6],\n",
       "       [6, 7, 8]])"
      ]
     },
     "execution_count": 43,
     "metadata": {},
     "output_type": "execute_result"
    }
   ],
   "source": [
    "array2[1:,1:]"
   ]
  },
  {
   "cell_type": "code",
   "execution_count": 40,
   "id": "b3aef002",
   "metadata": {},
   "outputs": [
    {
     "data": {
      "text/plain": [
       "array([[2, 3],\n",
       "       [3, 4],\n",
       "       [5, 6]])"
      ]
     },
     "execution_count": 40,
     "metadata": {},
     "output_type": "execute_result"
    }
   ],
   "source": [
    "array2[:3,:2]"
   ]
  },
  {
   "cell_type": "markdown",
   "id": "f13d9c2a",
   "metadata": {},
   "source": [
    "# brodcasting"
   ]
  },
  {
   "cell_type": "code",
   "execution_count": 53,
   "id": "3b24cbec",
   "metadata": {},
   "outputs": [
    {
     "data": {
      "text/plain": [
       "array([2, 3, 4, 5])"
      ]
     },
     "execution_count": 53,
     "metadata": {},
     "output_type": "execute_result"
    }
   ],
   "source": [
    "portion=array2[0]\n",
    "portion"
   ]
  },
  {
   "cell_type": "code",
   "execution_count": 54,
   "id": "deda8735",
   "metadata": {},
   "outputs": [
    {
     "data": {
      "text/plain": [
       "array([1, 1, 1, 1])"
      ]
     },
     "execution_count": 54,
     "metadata": {},
     "output_type": "execute_result"
    }
   ],
   "source": [
    "portion[:]=1\n",
    "portion"
   ]
  },
  {
   "cell_type": "code",
   "execution_count": 55,
   "id": "61630e5d",
   "metadata": {},
   "outputs": [
    {
     "data": {
      "text/plain": [
       "array([[1, 1, 1, 1],\n",
       "       [3, 4, 5, 6],\n",
       "       [5, 6, 7, 8]])"
      ]
     },
     "execution_count": 55,
     "metadata": {},
     "output_type": "execute_result"
    }
   ],
   "source": [
    "array2"
   ]
  },
  {
   "cell_type": "code",
   "execution_count": 62,
   "id": "e923348e",
   "metadata": {},
   "outputs": [
    {
     "data": {
      "text/plain": [
       "(3, 4)"
      ]
     },
     "execution_count": 62,
     "metadata": {},
     "output_type": "execute_result"
    }
   ],
   "source": [
    "array2.shape"
   ]
  },
  {
   "cell_type": "code",
   "execution_count": 11,
   "id": "9dccf58a",
   "metadata": {},
   "outputs": [
    {
     "name": "stdout",
     "output_type": "stream",
     "text": [
      "First array: [[ 0  0  0]\n",
      " [10 10 10]\n",
      " [20 20 20]\n",
      " [30 30 30]]\n",
      "Second array: [1 2 3]\n",
      "First Array + Second Array [[ 1  2  3]\n",
      " [11 12 13]\n",
      " [21 22 23]\n",
      " [31 32 33]]\n"
     ]
    }
   ],
   "source": [
    "a = np.array([[0,0,0],[10,10,10],[20,20,20],[30,30,30]]) \n",
    "b = np.array([1,2,3])   \n",
    "print ('First array:',a )\n",
    "a    \n",
    "print ('Second array:',b) \n",
    "b   \n",
    "c=a + b\n",
    "print ('First Array + Second Array',c)"
   ]
  },
  {
   "cell_type": "markdown",
   "id": "befb6380",
   "metadata": {},
   "source": [
    "# Built in function for creating array "
   ]
  },
  {
   "cell_type": "code",
   "execution_count": 19,
   "id": "1187fce2",
   "metadata": {},
   "outputs": [
    {
     "data": {
      "text/plain": [
       "array([[1, 2, 3, 4],\n",
       "       [3, 4, 5, 6],\n",
       "       [5, 6, 7, 8],\n",
       "       [1, 2, 4, 8]])"
      ]
     },
     "execution_count": 19,
     "metadata": {},
     "output_type": "execute_result"
    }
   ],
   "source": [
    "#np.diag([1,2,3])\n",
    "b=np.array(([1,2,3,4],[3,4,5,6],[5,6,7,8],[1,2,4,8]))\n",
    "#np.diag(a)\n",
    "b"
   ]
  },
  {
   "cell_type": "code",
   "execution_count": 21,
   "id": "4aeb3055",
   "metadata": {},
   "outputs": [
    {
     "data": {
      "text/plain": [
       "array([1, 4, 7, 8])"
      ]
     },
     "execution_count": 21,
     "metadata": {},
     "output_type": "execute_result"
    }
   ],
   "source": [
    "np.diag(b)"
   ]
  },
  {
   "cell_type": "code",
   "execution_count": 22,
   "id": "0e055263",
   "metadata": {},
   "outputs": [
    {
     "data": {
      "text/plain": [
       "array([2, 5, 8])"
      ]
     },
     "execution_count": 22,
     "metadata": {},
     "output_type": "execute_result"
    }
   ],
   "source": [
    "np.diag(b,k=1)"
   ]
  },
  {
   "cell_type": "code",
   "execution_count": 104,
   "id": "1efda7ed",
   "metadata": {},
   "outputs": [
    {
     "name": "stdout",
     "output_type": "stream",
     "text": [
      "[[12  2  3  4]\n",
      " [ 3 12  5  6]\n",
      " [ 5  6 12  8]\n",
      " [ 1  2  4 12]]\n"
     ]
    }
   ],
   "source": [
    "b[np.diag_indices_from(b)] = 12\n",
    "print(b)"
   ]
  },
  {
   "cell_type": "code",
   "execution_count": 112,
   "id": "c5a8a324",
   "metadata": {},
   "outputs": [
    {
     "data": {
      "text/plain": [
       "12"
      ]
     },
     "execution_count": 112,
     "metadata": {},
     "output_type": "execute_result"
    }
   ],
   "source": [
    "b[2][2]"
   ]
  },
  {
   "cell_type": "code",
   "execution_count": 113,
   "id": "1209c87e",
   "metadata": {},
   "outputs": [],
   "source": [
    "a=np.diag([12,1,1])"
   ]
  },
  {
   "cell_type": "code",
   "execution_count": 114,
   "id": "590e33b2",
   "metadata": {},
   "outputs": [
    {
     "data": {
      "text/plain": [
       "array([[12,  0,  0],\n",
       "       [ 0,  1,  0],\n",
       "       [ 0,  0,  1]])"
      ]
     },
     "execution_count": 114,
     "metadata": {},
     "output_type": "execute_result"
    }
   ],
   "source": [
    "a"
   ]
  },
  {
   "cell_type": "markdown",
   "id": "c6e91991",
   "metadata": {},
   "source": [
    "# zeros"
   ]
  },
  {
   "cell_type": "code",
   "execution_count": 27,
   "id": "c83d1b36",
   "metadata": {},
   "outputs": [
    {
     "data": {
      "text/plain": [
       "array([0., 0., 0., 0.])"
      ]
     },
     "execution_count": 27,
     "metadata": {},
     "output_type": "execute_result"
    }
   ],
   "source": [
    "#X = zeros(sz) returns an array of zeros where size vector sz defines size(X).\n",
    "X = np.zeros(4)\n",
    "X"
   ]
  },
  {
   "cell_type": "code",
   "execution_count": 30,
   "id": "b36ccaca",
   "metadata": {},
   "outputs": [
    {
     "data": {
      "text/plain": [
       "array([[0., 0., 0.],\n",
       "       [0., 0., 0.],\n",
       "       [0., 0., 0.]])"
      ]
     },
     "execution_count": 30,
     "metadata": {},
     "output_type": "execute_result"
    }
   ],
   "source": [
    "X=np.zeros((3,3))\n",
    "X"
   ]
  },
  {
   "cell_type": "markdown",
   "id": "2d02533a",
   "metadata": {},
   "source": [
    "# ones"
   ]
  },
  {
   "cell_type": "code",
   "execution_count": 37,
   "id": "25002d49",
   "metadata": {},
   "outputs": [],
   "source": [
    "#ones() function is used to create a new array of given shape and type, filled with ones."
   ]
  },
  {
   "cell_type": "code",
   "execution_count": 38,
   "id": "47e85a38",
   "metadata": {},
   "outputs": [
    {
     "data": {
      "text/plain": [
       "array([1., 1., 1., 1., 1., 1., 1.])"
      ]
     },
     "execution_count": 38,
     "metadata": {},
     "output_type": "execute_result"
    }
   ],
   "source": [
    "X=np.ones(7)\n",
    "X"
   ]
  },
  {
   "cell_type": "code",
   "execution_count": 40,
   "id": "3dd94351",
   "metadata": {},
   "outputs": [
    {
     "data": {
      "text/plain": [
       "array([[1., 1., 1.],\n",
       "       [1., 1., 1.]])"
      ]
     },
     "execution_count": 40,
     "metadata": {},
     "output_type": "execute_result"
    }
   ],
   "source": [
    "X=np.ones((2, 3))\n",
    "X"
   ]
  },
  {
   "cell_type": "markdown",
   "id": "c1b59c01",
   "metadata": {},
   "source": [
    "# built in method "
   ]
  },
  {
   "cell_type": "raw",
   "id": "b40c9cda",
   "metadata": {},
   "source": [
    "##sqrt\n",
    ".The math.sqrt() method returns the square root of a number. \n",
    "Note: The number must be greater than or equal to 0."
   ]
  },
  {
   "cell_type": "code",
   "execution_count": 42,
   "id": "5b8845f3",
   "metadata": {},
   "outputs": [
    {
     "name": "stdout",
     "output_type": "stream",
     "text": [
      "5.0\n",
      "4.0\n",
      "3.0\n",
      "<class 'float'>\n"
     ]
    }
   ],
   "source": [
    "# Import math Library\n",
    "import math\n",
    "# Return the square root of different numbers\n",
    "x=(math.sqrt(9))\n",
    "print(math.sqrt(25))\n",
    "print(math.sqrt(16))\n",
    "print(x)\n",
    "print(type(x))"
   ]
  },
  {
   "cell_type": "markdown",
   "id": "1a32bb82",
   "metadata": {},
   "source": [
    "##log"
   ]
  },
  {
   "cell_type": "code",
   "execution_count": 44,
   "id": "f9b50826",
   "metadata": {},
   "outputs": [
    {
     "name": "stdout",
     "output_type": "stream",
     "text": [
      "Natural logarithm of 14 is : 2.6390573296152584\n",
      "Logarithm base 5 of 14 is : 1.6397385131955606\n"
     ]
    }
   ],
   "source": [
    "# log(a,Base)\n",
    "# Printing the log base e of 14\n",
    "print (\"Natural logarithm of 14 is : \", end=\"\")\n",
    "print (math.log(14))\n",
    "\n",
    "# Printing the log base 5 of 14\n",
    "print (\"Logarithm base 5 of 14 is : \", end=\"\")\n",
    "print (math.log(14,5))\n"
   ]
  },
  {
   "cell_type": "code",
   "execution_count": 45,
   "id": "e55c38e2",
   "metadata": {},
   "outputs": [
    {
     "name": "stdout",
     "output_type": "stream",
     "text": [
      "Logarithm base 2 of 14 is : 3.807354922057604\n"
     ]
    }
   ],
   "source": [
    "# log2(a)\n",
    "# Printing the log base 2 of 14\n",
    "print (\"Logarithm base 2 of 14 is : \", end=\"\")\n",
    "print (math.log2(14))"
   ]
  },
  {
   "cell_type": "markdown",
   "id": "940c3309",
   "metadata": {},
   "source": [
    "##exp"
   ]
  },
  {
   "cell_type": "code",
   "execution_count": 5,
   "id": "bdd377ce",
   "metadata": {},
   "outputs": [
    {
     "name": "stdout",
     "output_type": "stream",
     "text": [
      "0.6931471805599453\n",
      "3.0\n"
     ]
    }
   ],
   "source": [
    "#Exponential function \n",
    "#e = 2.7182 (e^X) \n",
    "import math\n",
    "import numpy as np\n",
    "a = 2\n",
    "b = np.exp(3)\n",
    "print (np.log(a))\n",
    "print (np.log(b))"
   ]
  },
  {
   "cell_type": "markdown",
   "id": "6e536841",
   "metadata": {},
   "source": [
    "# Python Math Module "
   ]
  },
  {
   "cell_type": "code",
   "execution_count": 46,
   "id": "47a42614",
   "metadata": {},
   "outputs": [
    {
     "name": "stdout",
     "output_type": "stream",
     "text": [
      "3.141592653589793\n"
     ]
    }
   ],
   "source": [
    "print(math.pi)"
   ]
  },
  {
   "cell_type": "code",
   "execution_count": 47,
   "id": "03cd48b7",
   "metadata": {},
   "outputs": [
    {
     "name": "stdout",
     "output_type": "stream",
     "text": [
      "Area = 28.274333882308138\n"
     ]
    }
   ],
   "source": [
    "def circle_area(r):\n",
    "    return math.pi*r**2\n",
    "radius = 3\n",
    "print(\"Area =\", circle_area(radius))"
   ]
  },
  {
   "cell_type": "code",
   "execution_count": 48,
   "id": "bf0256e2",
   "metadata": {},
   "outputs": [
    {
     "name": "stdout",
     "output_type": "stream",
     "text": [
      "6.283185307179586\n"
     ]
    }
   ],
   "source": [
    "print(math.tau)"
   ]
  },
  {
   "cell_type": "code",
   "execution_count": 49,
   "id": "dd913ee1",
   "metadata": {},
   "outputs": [
    {
     "name": "stdout",
     "output_type": "stream",
     "text": [
      "2.718281828459045\n"
     ]
    }
   ],
   "source": [
    "print(math.e)"
   ]
  },
  {
   "cell_type": "code",
   "execution_count": 50,
   "id": "636b93c3",
   "metadata": {},
   "outputs": [
    {
     "name": "stdout",
     "output_type": "stream",
     "text": [
      "nan\n",
      "<class 'float'>\n"
     ]
    }
   ],
   "source": [
    "print(math.nan)\n",
    "print(type(math.nan))"
   ]
  },
  {
   "cell_type": "code",
   "execution_count": 51,
   "id": "b0c8eab0",
   "metadata": {},
   "outputs": [
    {
     "name": "stdout",
     "output_type": "stream",
     "text": [
      "inf\n",
      "-inf\n"
     ]
    }
   ],
   "source": [
    "print(math.inf)\n",
    "print(-math.inf)"
   ]
  },
  {
   "cell_type": "code",
   "execution_count": 52,
   "id": "dd638bfb",
   "metadata": {},
   "outputs": [
    {
     "name": "stdout",
     "output_type": "stream",
     "text": [
      "11\n"
     ]
    }
   ],
   "source": [
    "p = 10.1\n",
    "print(math.ceil(p))"
   ]
  },
  {
   "cell_type": "code",
   "execution_count": 53,
   "id": "11bb80ea",
   "metadata": {},
   "outputs": [
    {
     "name": "stdout",
     "output_type": "stream",
     "text": [
      "9\n"
     ]
    }
   ],
   "source": [
    "q = 9.99\n",
    "print(math.floor(q))"
   ]
  },
  {
   "cell_type": "code",
   "execution_count": 54,
   "id": "4a40f431",
   "metadata": {},
   "outputs": [
    {
     "name": "stdout",
     "output_type": "stream",
     "text": [
      "5! = 120\n"
     ]
    }
   ],
   "source": [
    "n = 5\n",
    "print(\"{}! = {}\".format(n, math.factorial(n)))"
   ]
  },
  {
   "cell_type": "code",
   "execution_count": 55,
   "id": "7684d7e4",
   "metadata": {},
   "outputs": [
    {
     "name": "stdout",
     "output_type": "stream",
     "text": [
      "5\n"
     ]
    }
   ],
   "source": [
    "gcd = math.gcd(25, 120)\n",
    "print(gcd)"
   ]
  },
  {
   "cell_type": "code",
   "execution_count": 56,
   "id": "6b324d60",
   "metadata": {},
   "outputs": [
    {
     "name": "stdout",
     "output_type": "stream",
     "text": [
      "25.0\n"
     ]
    }
   ],
   "source": [
    "print(math.fabs(-25))"
   ]
  },
  {
   "cell_type": "code",
   "execution_count": 57,
   "id": "5068a69d",
   "metadata": {},
   "outputs": [
    {
     "name": "stdout",
     "output_type": "stream",
     "text": [
      "The final amount after five years is 12166.529024000001\n"
     ]
    }
   ],
   "source": [
    "deposit = 10000\n",
    "interest_rate = 0.04\n",
    "number_years = 5\n",
    "final_amount = deposit * math.pow(1 + interest_rate, number_years)\n",
    "print(\"The final amount after five years is\", final_amount)"
   ]
  },
  {
   "cell_type": "code",
   "execution_count": 58,
   "id": "44195a64",
   "metadata": {},
   "outputs": [
    {
     "name": "stdout",
     "output_type": "stream",
     "text": [
      "20.085536923187668\n",
      "20.085536923187664\n"
     ]
    }
   ],
   "source": [
    "print(math.exp(3))\n",
    "print(math.pow(math.e, 3))"
   ]
  },
  {
   "cell_type": "code",
   "execution_count": 59,
   "id": "c3a3b189",
   "metadata": {},
   "outputs": [
    {
     "name": "stdout",
     "output_type": "stream",
     "text": [
      "2.302585092994046\n",
      "2.095903274289385\n"
     ]
    }
   ],
   "source": [
    "print(math.log(10))\n",
    "print(math.log(10, 3))"
   ]
  }
 ],
 "metadata": {
  "kernelspec": {
   "display_name": "Python 3 (ipykernel)",
   "language": "python",
   "name": "python3"
  },
  "language_info": {
   "codemirror_mode": {
    "name": "ipython",
    "version": 3
   },
   "file_extension": ".py",
   "mimetype": "text/x-python",
   "name": "python",
   "nbconvert_exporter": "python",
   "pygments_lexer": "ipython3",
   "version": "3.9.13"
  }
 },
 "nbformat": 4,
 "nbformat_minor": 5
}
