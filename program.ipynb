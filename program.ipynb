{
 "cells": [
  {
   "cell_type": "code",
   "execution_count": 6,
   "id": "bec8752c",
   "metadata": {},
   "outputs": [
    {
     "name": "stdout",
     "output_type": "stream",
     "text": [
      "[24, 35, 9, 56, 12]\n"
     ]
    }
   ],
   "source": [
    "# Python3 program to swap first\n",
    "# and last element of a list\n",
    " \n",
    "# Swap function\n",
    "def swapList(newList):\n",
    "    size = len(newList)\n",
    "     \n",
    "    # Swapping\n",
    "    temp = newList[0]\n",
    "    newList[0] = newList[size - 1]\n",
    "    newList[size - 1] = temp\n",
    "     \n",
    "    return newList\n",
    "newList = [12, 35, 9, 56, 24]\n",
    " \n",
    "print(swapList(newList))"
   ]
  },
  {
   "cell_type": "code",
   "execution_count": 7,
   "id": "c27acec2",
   "metadata": {},
   "outputs": [
    {
     "name": "stdout",
     "output_type": "stream",
     "text": [
      "The length of the tuple is 3\n"
     ]
    }
   ],
   "source": [
    "#write funtion count lenght of string\n",
    "\n",
    "Tup = ('Jan','feb','march')\n",
    "\n",
    "print(\"The length of the tuple is\", len(Tup))\n"
   ]
  },
  {
   "cell_type": "code",
   "execution_count": 33,
   "id": "da0e65d5",
   "metadata": {},
   "outputs": [
    {
     "name": "stdout",
     "output_type": "stream",
     "text": [
      "Please enter any 5 integer nmbers\n",
      "\n",
      "Number 0 = 3\n",
      "Number 1 = -5\n",
      "Number 2 = 2\n",
      "Number 3 = -4\n",
      "Number 4 = -5\n",
      "The Sum of Numbers after Skipping Negative Numbers =  5\n"
     ]
    }
   ],
   "source": [
    "# Program to get the sum of an only non negative integer\n",
    "\n",
    "Sum=0\n",
    "\n",
    "print(\"Please enter any 5 integer nmbers\\n\")\n",
    "for i in range(0, 5):\n",
    "    num = int(input(\"Number %d = \" %i))\n",
    "\n",
    "    if num < 0:\n",
    "        continue\n",
    "\n",
    "    Sum = Sum + num\n",
    "\n",
    "print(\"The Sum of Numbers after Skipping Negative Numbers = \", Sum)"
   ]
  },
  {
   "cell_type": "code",
   "execution_count": 34,
   "id": "89996d1a",
   "metadata": {},
   "outputs": [
    {
     "name": "stdout",
     "output_type": "stream",
     "text": [
      "Enter a number: 7\n",
      "The factorial of 7 is 5040\n"
     ]
    }
   ],
   "source": [
    "# num=7\n",
    "# To take input from the user\n",
    "num = int(input(\"Enter a number: \"))\n",
    "factorial = 1\n",
    "# check if the number is negative, positive or zero\n",
    "if num < 0:\n",
    "    print(\"factorial does not exist for negative numbers\")\n",
    "elif num == 0:\n",
    "        print(\"The factorial of 0 is 1\")\n",
    "else:\n",
    "    for i in range(1,num + 1):\n",
    "        factorial = factorial*i\n",
    "print(\"The factorial of\",num,\"is\",factorial)"
   ]
  },
  {
   "cell_type": "code",
   "execution_count": null,
   "id": "def9c2b8",
   "metadata": {},
   "outputs": [],
   "source": []
  }
 ],
 "metadata": {
  "kernelspec": {
   "display_name": "Python 3 (ipykernel)",
   "language": "python",
   "name": "python3"
  },
  "language_info": {
   "codemirror_mode": {
    "name": "ipython",
    "version": 3
   },
   "file_extension": ".py",
   "mimetype": "text/x-python",
   "name": "python",
   "nbconvert_exporter": "python",
   "pygments_lexer": "ipython3",
   "version": "3.9.13"
  }
 },
 "nbformat": 4,
 "nbformat_minor": 5
}
