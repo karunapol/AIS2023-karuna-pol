{
 "cells": [
  {
   "cell_type": "markdown",
   "id": "c559c1e5",
   "metadata": {},
   "source": [
    "# lambda"
   ]
  },
  {
   "cell_type": "code",
   "execution_count": 49,
   "id": "0b3ed097",
   "metadata": {},
   "outputs": [
    {
     "data": {
      "text/plain": [
       "25"
      ]
     },
     "execution_count": 49,
     "metadata": {},
     "output_type": "execute_result"
    }
   ],
   "source": [
    "#lambda arguments: expression\n",
    "square = lambda n: n ** 2\n",
    "square(5)"
   ]
  },
  {
   "cell_type": "code",
   "execution_count": 4,
   "id": "f978add1",
   "metadata": {},
   "outputs": [
    {
     "name": "stdout",
     "output_type": "stream",
     "text": [
      "3.5\n"
     ]
    }
   ],
   "source": [
    "# lambda is used to calculate arithmetic expression\n",
    "mean= lambda a, b: a+b/2\n",
    "print (mean(2,3))"
   ]
  },
  {
   "cell_type": "code",
   "execution_count": 9,
   "id": "6c0cad90",
   "metadata": {},
   "outputs": [
    {
     "name": "stdout",
     "output_type": "stream",
     "text": [
      "addition is: 10\n",
      "substraction is: 2\n",
      "multiplication is: 24\n",
      "division is: 1.5\n"
     ]
    }
   ],
   "source": [
    "add=lambda a,b:a+b\n",
    "sub=lambda a,b:a-b\n",
    "mul=lambda a,b:a*b\n",
    "div=lambda a,b:a/b\n",
    "print(\"addition is:\",add(6,4))\n",
    "print(\"substraction is:\",sub(6,4))\n",
    "print(\"multiplication is:\",mul(6,4))\n",
    "print(\"division is:\",div(6,4))"
   ]
  },
  {
   "cell_type": "markdown",
   "id": "23a19756",
   "metadata": {},
   "source": [
    "# map"
   ]
  },
  {
   "cell_type": "code",
   "execution_count": 24,
   "id": "786f5a31",
   "metadata": {},
   "outputs": [
    {
     "data": {
      "text/plain": [
       "[1, 9, 25, 49, 81]"
      ]
     },
     "execution_count": 24,
     "metadata": {},
     "output_type": "execute_result"
    }
   ],
   "source": [
    "#map expression\n",
    "def square(n):\n",
    "    return n ** 2\n",
    "squares = map(square, range(1, 10, 2))  \n",
    "squares\n",
    "# returns map object\n",
    "list(squares)"
   ]
  },
  {
   "cell_type": "code",
   "execution_count": 1,
   "id": "652f1cc7",
   "metadata": {},
   "outputs": [
    {
     "name": "stdout",
     "output_type": "stream",
     "text": [
      "[2, 4, 6, 8]\n"
     ]
    }
   ],
   "source": [
    "def addition(n):\n",
    "    return n + n\n",
    "# We double all numbers using map()\n",
    "numbers = (1, 2, 3, 4)\n",
    "result = map(addition, numbers)\n",
    "print(list(result))"
   ]
  },
  {
   "cell_type": "code",
   "execution_count": 2,
   "id": "7ea0cb7f",
   "metadata": {},
   "outputs": [
    {
     "name": "stdout",
     "output_type": "stream",
     "text": [
      "[2, 4, 6, 8]\n"
     ]
    }
   ],
   "source": [
    "numbers = (1, 2, 3, 4)\n",
    "result = map(lambda x: x + x, numbers)\n",
    "print(list(result))"
   ]
  },
  {
   "cell_type": "code",
   "execution_count": 3,
   "id": "e2060362",
   "metadata": {},
   "outputs": [
    {
     "name": "stdout",
     "output_type": "stream",
     "text": [
      "[5, 7, 9]\n"
     ]
    }
   ],
   "source": [
    "# Add two lists using map and lambda\n",
    "numbers1 = [1, 2, 3]\n",
    "numbers2 = [4, 5, 6]\n",
    "\n",
    "result = map(lambda x, y: x + y, numbers1, numbers2)\n",
    "print(list(result))"
   ]
  },
  {
   "cell_type": "code",
   "execution_count": 5,
   "id": "c862b0dd",
   "metadata": {},
   "outputs": [
    {
     "name": "stdout",
     "output_type": "stream",
     "text": [
      "[['G', 'C', 'E', 'K'], ['M', 'C', 'A']]\n"
     ]
    }
   ],
   "source": [
    "# List of strings\n",
    "l = [\"GCEK\",\"MCA\"]\n",
    "# map() can listify the list of strings individually\n",
    "test = list(map(list, l))\n",
    "print(test)\n"
   ]
  },
  {
   "cell_type": "markdown",
   "id": "9c088483",
   "metadata": {},
   "source": [
    "# filter"
   ]
  },
  {
   "cell_type": "code",
   "execution_count": 15,
   "id": "4977f96f",
   "metadata": {},
   "outputs": [
    {
     "name": "stdout",
     "output_type": "stream",
     "text": [
      "[5, 6]\n"
     ]
    }
   ],
   "source": [
    "#Python filter() function is used to get filtered elements. \n",
    "#filter (function, iterable)  \n",
    "def filterdata(x):  \n",
    "    if x>4:  \n",
    "        return x  \n",
    "# Calling function  \n",
    "result = filter(filterdata,(1,2,3,4,5,6))  \n",
    "print(list(result))  \n"
   ]
  },
  {
   "cell_type": "code",
   "execution_count": 17,
   "id": "88dd6d25",
   "metadata": {},
   "outputs": [
    {
     "name": "stdout",
     "output_type": "stream",
     "text": [
      "[5, 6]\n"
     ]
    }
   ],
   "source": [
    "#using lambda function\n",
    "l=[1,2,3,4,5,6]\n",
    "result= filter(lambda x:x>4,l)\n",
    "print(list(result))"
   ]
  },
  {
   "cell_type": "code",
   "execution_count": 14,
   "id": "10527f55",
   "metadata": {},
   "outputs": [
    {
     "name": "stdout",
     "output_type": "stream",
     "text": [
      "[2, 4, 6]\n"
     ]
    }
   ],
   "source": [
    "numbers = [1, 2, 3, 4, 5, 6, 7]\n",
    "# the lambda function returns True for even numbers \n",
    "even_no = filter(lambda x: (x%2 == 0), numbers)\n",
    "even_number = list(even_no)\n",
    "print(even_number)"
   ]
  },
  {
   "cell_type": "markdown",
   "id": "cddc8031",
   "metadata": {},
   "source": [
    "# format"
   ]
  },
  {
   "cell_type": "code",
   "execution_count": 26,
   "id": "72f93c29",
   "metadata": {},
   "outputs": [
    {
     "name": "stdout",
     "output_type": "stream",
     "text": [
      "My name is Karuna.\n"
     ]
    }
   ],
   "source": [
    "#format(value[, format_spec])\n",
    "my_string = \"My name is {}\"\n",
    "print(my_string.format(\"Karuna.\"))"
   ]
  },
  {
   "cell_type": "code",
   "execution_count": 24,
   "id": "41c31683",
   "metadata": {},
   "outputs": [
    {
     "name": "stdout",
     "output_type": "stream",
     "text": [
      "Original Value :\n",
      "12\n",
      "Binary value:\n",
      "1100\n",
      "Octal value:\n",
      "14\n",
      "Hexadecimal value:\n",
      "c\n"
     ]
    }
   ],
   "source": [
    "# Converting a decimal number into b(binary), o(octal), and x(hexadecimal).\n",
    "\n",
    "val = 12  # Original value\n",
    "print(\"Original Value :\")\n",
    "print(val)\n",
    "\n",
    "# Binary value\n",
    "print(\"Binary value:\") \n",
    "print(format(12, \"b\"))  # Formatting in Binary\n",
    "\n",
    "# Octal value\n",
    "print(\"Octal value:\")\n",
    "print(format(12, \"o\"))  # Formatting in Octal\n",
    "\n",
    "# Hexadecimal value\n",
    "print(\"Hexadecimal value:\")\n",
    "print(format(12, \"x\"))  # Formatting in Hexadecimal\n"
   ]
  },
  {
   "cell_type": "code",
   "execution_count": 28,
   "id": "368eac71",
   "metadata": {},
   "outputs": [
    {
     "data": {
      "text/plain": [
       "'Government college of engineering Karad'"
      ]
     },
     "execution_count": 28,
     "metadata": {},
     "output_type": "execute_result"
    }
   ],
   "source": [
    "\"Government {n} of engineering {m}\".format(n=\"college\",m=\"Karad\")"
   ]
  },
  {
   "cell_type": "markdown",
   "id": "f85cec9a",
   "metadata": {},
   "source": [
    "# read"
   ]
  },
  {
   "cell_type": "code",
   "execution_count": 18,
   "id": "2e6e8b4e",
   "metadata": {},
   "outputs": [
    {
     "data": {
      "text/html": [
       "<div>\n",
       "<style scoped>\n",
       "    .dataframe tbody tr th:only-of-type {\n",
       "        vertical-align: middle;\n",
       "    }\n",
       "\n",
       "    .dataframe tbody tr th {\n",
       "        vertical-align: top;\n",
       "    }\n",
       "\n",
       "    .dataframe thead th {\n",
       "        text-align: right;\n",
       "    }\n",
       "</style>\n",
       "<table border=\"1\" class=\"dataframe\">\n",
       "  <thead>\n",
       "    <tr style=\"text-align: right;\">\n",
       "      <th></th>\n",
       "      <th>Hi my name is karuna.</th>\n",
       "    </tr>\n",
       "  </thead>\n",
       "  <tbody>\n",
       "    <tr>\n",
       "      <th>0</th>\n",
       "      <td>I am from satara.</td>\n",
       "    </tr>\n",
       "    <tr>\n",
       "      <th>1</th>\n",
       "      <td>I am doing intership at AIS soultion Pvt. Ltd.</td>\n",
       "    </tr>\n",
       "  </tbody>\n",
       "</table>\n",
       "</div>"
      ],
      "text/plain": [
       "                           Hi my name is karuna. \n",
       "0                               I am from satara.\n",
       "1  I am doing intership at AIS soultion Pvt. Ltd."
      ]
     },
     "execution_count": 18,
     "metadata": {},
     "output_type": "execute_result"
    }
   ],
   "source": [
    "import pandas as pd\n",
    "f = pd.read_csv(\"demo.rtf\")\n",
    "f"
   ]
  },
  {
   "cell_type": "code",
   "execution_count": 19,
   "id": "992bb1bf",
   "metadata": {},
   "outputs": [
    {
     "name": "stdout",
     "output_type": "stream",
     "text": [
      "Hi my name is karuna. \n",
      "I am from satara.\n",
      "I am doing intership at AIS soultion Pvt. Ltd.\n",
      "\n"
     ]
    }
   ],
   "source": [
    "f=open(\"demo.rtf\",\"r\")\n",
    "print(f.read())"
   ]
  },
  {
   "cell_type": "code",
   "execution_count": 3,
   "id": "620c5a97",
   "metadata": {},
   "outputs": [
    {
     "data": {
      "text/plain": [
       "'Hi my name is karuna. \\nI am from satara.\\nI am doing intership at AIS soultion Pvt. Ltd.\\n'"
      ]
     },
     "execution_count": 3,
     "metadata": {},
     "output_type": "execute_result"
    }
   ],
   "source": [
    "f=open(\"demo.rtf\",\"r\")\n",
    "f.read()"
   ]
  },
  {
   "cell_type": "markdown",
   "id": "b5c387e4",
   "metadata": {},
   "source": [
    "# user define function"
   ]
  },
  {
   "cell_type": "code",
   "execution_count": 31,
   "id": "26e16f0b",
   "metadata": {},
   "outputs": [
    {
     "name": "stdout",
     "output_type": "stream",
     "text": [
      "Average of  3  and  4  is  3.5\n"
     ]
    }
   ],
   "source": [
    "def avg_number(x, y):\n",
    "    print(\"Average of \",x,\" and \",y, \" is \",(x+y)/2)\n",
    "avg_number(3, 4)"
   ]
  },
  {
   "cell_type": "code",
   "execution_count": 37,
   "id": "6e831c45",
   "metadata": {},
   "outputs": [
    {
     "name": "stdout",
     "output_type": "stream",
     "text": [
      "10\n"
     ]
    }
   ],
   "source": [
    "def sum(*numbers):\n",
    "    s = 0\n",
    "    for n in numbers:\n",
    "        s += n\n",
    "    return s\n",
    "\n",
    "print(sum(1,2,3,4))"
   ]
  },
  {
   "cell_type": "code",
   "execution_count": 38,
   "id": "786a7dc1",
   "metadata": {},
   "outputs": [
    {
     "name": "stdout",
     "output_type": "stream",
     "text": [
      "3.5\n"
     ]
    }
   ],
   "source": [
    "def average(x, y):\n",
    "    return (x + y)/2\n",
    "print(average(4, 3))"
   ]
  },
  {
   "cell_type": "code",
   "execution_count": null,
   "id": "31e5257e",
   "metadata": {},
   "outputs": [],
   "source": []
  }
 ],
 "metadata": {
  "kernelspec": {
   "display_name": "Python 3 (ipykernel)",
   "language": "python",
   "name": "python3"
  },
  "language_info": {
   "codemirror_mode": {
    "name": "ipython",
    "version": 3
   },
   "file_extension": ".py",
   "mimetype": "text/x-python",
   "name": "python",
   "nbconvert_exporter": "python",
   "pygments_lexer": "ipython3",
   "version": "3.9.13"
  }
 },
 "nbformat": 4,
 "nbformat_minor": 5
}
