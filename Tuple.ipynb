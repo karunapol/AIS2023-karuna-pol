{
 "cells": [
  {
   "cell_type": "markdown",
   "id": "c84948de",
   "metadata": {},
   "source": [
    "# Tuple"
   ]
  },
  {
   "cell_type": "code",
   "execution_count": 1,
   "id": "59d193eb",
   "metadata": {},
   "outputs": [],
   "source": [
    "#tuple is collection of ordered ,unchangeble and allow duplicate\n",
    "#tuples are return in round brackets"
   ]
  },
  {
   "cell_type": "markdown",
   "id": "462b8cba",
   "metadata": {},
   "source": [
    "# creation of tuple"
   ]
  },
  {
   "cell_type": "code",
   "execution_count": 8,
   "id": "28cec7b4",
   "metadata": {},
   "outputs": [
    {
     "data": {
      "text/plain": [
       "(20, 46, 25, 3, 20, 10, 3, 20, 42, 20)"
      ]
     },
     "execution_count": 8,
     "metadata": {},
     "output_type": "execute_result"
    }
   ],
   "source": [
    "#tuple can created by using round brackets ()\n",
    "#and each element seperated by comma ,\n",
    "tuple1=(20,46,25,3,20,10,3,20,42,20)\n",
    "tuple1"
   ]
  },
  {
   "cell_type": "markdown",
   "id": "0054b985",
   "metadata": {},
   "source": [
    "# Methods"
   ]
  },
  {
   "cell_type": "markdown",
   "id": "0b5d5553",
   "metadata": {},
   "source": [
    "# 1.count"
   ]
  },
  {
   "cell_type": "code",
   "execution_count": 9,
   "id": "aed958c2",
   "metadata": {},
   "outputs": [
    {
     "data": {
      "text/plain": [
       "4"
      ]
     },
     "execution_count": 9,
     "metadata": {},
     "output_type": "execute_result"
    }
   ],
   "source": [
    "#count\n",
    "#count the elements of specified values\n",
    "tuple1.count(20)"
   ]
  },
  {
   "cell_type": "markdown",
   "id": "a6b1e7ac",
   "metadata": {},
   "source": [
    "# 2.index"
   ]
  },
  {
   "cell_type": "code",
   "execution_count": 10,
   "id": "37d57d18",
   "metadata": {},
   "outputs": [
    {
     "data": {
      "text/plain": [
       "5"
      ]
     },
     "execution_count": 10,
     "metadata": {},
     "output_type": "execute_result"
    }
   ],
   "source": [
    "#index\n",
    "#retrun the index of specified value\n",
    "tuple1.index(10)"
   ]
  },
  {
   "cell_type": "markdown",
   "id": "acc74bf9",
   "metadata": {},
   "source": [
    "# Functions of Tuple"
   ]
  },
  {
   "cell_type": "markdown",
   "id": "71e8bcd6",
   "metadata": {},
   "source": [
    "# 1.len"
   ]
  },
  {
   "cell_type": "code",
   "execution_count": 11,
   "id": "5cd8e1bd",
   "metadata": {},
   "outputs": [
    {
     "data": {
      "text/plain": [
       "10"
      ]
     },
     "execution_count": 11,
     "metadata": {},
     "output_type": "execute_result"
    }
   ],
   "source": [
    "#len\n",
    "#returns the length of tuple\n",
    "len(tuple1)"
   ]
  },
  {
   "cell_type": "markdown",
   "id": "0ff7c2b6",
   "metadata": {},
   "source": [
    "# 2.sort"
   ]
  },
  {
   "cell_type": "code",
   "execution_count": 15,
   "id": "1d29b0a8",
   "metadata": {},
   "outputs": [
    {
     "data": {
      "text/plain": [
       "[1, 2, 3, 4, 5]"
      ]
     },
     "execution_count": 15,
     "metadata": {},
     "output_type": "execute_result"
    }
   ],
   "source": [
    "#sort\n",
    "#sorting the tuple in ascending or descending order\n",
    "#ascending order\n",
    "t1=(5,3,1,2,4)\n",
    "sorted(t1)"
   ]
  },
  {
   "cell_type": "code",
   "execution_count": 16,
   "id": "9585828a",
   "metadata": {},
   "outputs": [
    {
     "data": {
      "text/plain": [
       "[5, 4, 3, 2, 1]"
      ]
     },
     "execution_count": 16,
     "metadata": {},
     "output_type": "execute_result"
    }
   ],
   "source": [
    "#descending order\n",
    "sorted(t1,reverse=True)"
   ]
  },
  {
   "cell_type": "markdown",
   "id": "fb171f20",
   "metadata": {},
   "source": [
    "# 3.reversed"
   ]
  },
  {
   "cell_type": "code",
   "execution_count": 17,
   "id": "afbb145d",
   "metadata": {},
   "outputs": [
    {
     "data": {
      "text/plain": [
       "(4, 2, 1, 3, 5)"
      ]
     },
     "execution_count": 17,
     "metadata": {},
     "output_type": "execute_result"
    }
   ],
   "source": [
    "#reversed\n",
    "#reverse the tuple \n",
    "tuple(reversed(t1))"
   ]
  },
  {
   "cell_type": "markdown",
   "id": "8424d0cd",
   "metadata": {},
   "source": [
    "# 4.min"
   ]
  },
  {
   "cell_type": "code",
   "execution_count": 18,
   "id": "a094f4ba",
   "metadata": {},
   "outputs": [
    {
     "data": {
      "text/plain": [
       "1"
      ]
     },
     "execution_count": 18,
     "metadata": {},
     "output_type": "execute_result"
    }
   ],
   "source": [
    "#min\n",
    "#returns the smallest value\n",
    "min(t1)"
   ]
  },
  {
   "cell_type": "markdown",
   "id": "a6224e5c",
   "metadata": {},
   "source": [
    "# 5.max"
   ]
  },
  {
   "cell_type": "code",
   "execution_count": 19,
   "id": "cae7baf9",
   "metadata": {},
   "outputs": [
    {
     "data": {
      "text/plain": [
       "5"
      ]
     },
     "execution_count": 19,
     "metadata": {},
     "output_type": "execute_result"
    }
   ],
   "source": [
    "#max\n",
    "#returns the largest value\n",
    "max(t1)"
   ]
  },
  {
   "cell_type": "markdown",
   "id": "d8ec1ac7",
   "metadata": {},
   "source": [
    "# 6.sum"
   ]
  },
  {
   "cell_type": "code",
   "execution_count": 20,
   "id": "70e4e379",
   "metadata": {},
   "outputs": [
    {
     "data": {
      "text/plain": [
       "15"
      ]
     },
     "execution_count": 20,
     "metadata": {},
     "output_type": "execute_result"
    }
   ],
   "source": [
    "#sum\n",
    "#adds the all element in the tuple\n",
    "sum(t1)"
   ]
  },
  {
   "cell_type": "code",
   "execution_count": null,
   "id": "f51bbc75",
   "metadata": {},
   "outputs": [],
   "source": []
  }
 ],
 "metadata": {
  "kernelspec": {
   "display_name": "Python 3 (ipykernel)",
   "language": "python",
   "name": "python3"
  },
  "language_info": {
   "codemirror_mode": {
    "name": "ipython",
    "version": 3
   },
   "file_extension": ".py",
   "mimetype": "text/x-python",
   "name": "python",
   "nbconvert_exporter": "python",
   "pygments_lexer": "ipython3",
   "version": "3.9.13"
  }
 },
 "nbformat": 4,
 "nbformat_minor": 5
}
