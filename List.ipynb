{
 "cells": [
  {
   "cell_type": "markdown",
   "id": "0185886d",
   "metadata": {},
   "source": [
    "# list"
   ]
  },
  {
   "cell_type": "code",
   "execution_count": null,
   "id": "60d18ada",
   "metadata": {},
   "outputs": [],
   "source": [
    "#list is a data type that is mutable\n",
    "#list item are ordered,changeble and allow duplicates"
   ]
  },
  {
   "cell_type": "markdown",
   "id": "5068d01b",
   "metadata": {},
   "source": [
    "# creation of list"
   ]
  },
  {
   "cell_type": "code",
   "execution_count": 27,
   "id": "42011a24",
   "metadata": {},
   "outputs": [],
   "source": [
    "#creating list using square brackets[]\n",
    "#list contain elements that seperated by comma ,"
   ]
  },
  {
   "cell_type": "code",
   "execution_count": 79,
   "id": "01add613",
   "metadata": {},
   "outputs": [],
   "source": [
    "city=[\"satara\",\"karad\",\"islampur\",\"pune\"]"
   ]
  },
  {
   "cell_type": "code",
   "execution_count": 80,
   "id": "58d71add",
   "metadata": {},
   "outputs": [
    {
     "data": {
      "text/plain": [
       "['satara', 'karad', 'islampur', 'pune']"
      ]
     },
     "execution_count": 80,
     "metadata": {},
     "output_type": "execute_result"
    }
   ],
   "source": [
    "city"
   ]
  },
  {
   "cell_type": "code",
   "execution_count": 81,
   "id": "24dd25f6",
   "metadata": {},
   "outputs": [
    {
     "data": {
      "text/plain": [
       "['Karuna Pol', 123]"
      ]
     },
     "execution_count": 81,
     "metadata": {},
     "output_type": "execute_result"
    }
   ],
   "source": [
    "#using list function()\n",
    "list1=list([\"Karuna Pol\",123])\n",
    "list1"
   ]
  },
  {
   "cell_type": "code",
   "execution_count": 82,
   "id": "87da159c",
   "metadata": {},
   "outputs": [
    {
     "data": {
      "text/plain": [
       "['k', 'a', 'r', 'u', 'n', 'a']"
      ]
     },
     "execution_count": 82,
     "metadata": {},
     "output_type": "execute_result"
    }
   ],
   "source": [
    "list2=list(\"karuna\")\n",
    "list2"
   ]
  },
  {
   "cell_type": "markdown",
   "id": "1b5f4062",
   "metadata": {},
   "source": [
    "# slicing of list"
   ]
  },
  {
   "cell_type": "code",
   "execution_count": 83,
   "id": "2b4e3c3f",
   "metadata": {},
   "outputs": [
    {
     "data": {
      "text/plain": [
       "'satara'"
      ]
     },
     "execution_count": 83,
     "metadata": {},
     "output_type": "execute_result"
    }
   ],
   "source": [
    "#start list\n",
    "city[0]"
   ]
  },
  {
   "cell_type": "code",
   "execution_count": 84,
   "id": "3ae0355e",
   "metadata": {},
   "outputs": [
    {
     "data": {
      "text/plain": [
       "'pune'"
      ]
     },
     "execution_count": 84,
     "metadata": {},
     "output_type": "execute_result"
    }
   ],
   "source": [
    "#end list\n",
    "city[3]"
   ]
  },
  {
   "cell_type": "code",
   "execution_count": 85,
   "id": "d13834f4",
   "metadata": {},
   "outputs": [
    {
     "data": {
      "text/plain": [
       "['karad', 'islampur', 'pune']"
      ]
     },
     "execution_count": 85,
     "metadata": {},
     "output_type": "execute_result"
    }
   ],
   "source": [
    "#giving range from start to rest of all values\n",
    "city[1:]"
   ]
  },
  {
   "cell_type": "code",
   "execution_count": 86,
   "id": "4a0bc536",
   "metadata": {},
   "outputs": [
    {
     "data": {
      "text/plain": [
       "['satara', 'karad', 'islampur']"
      ]
     },
     "execution_count": 86,
     "metadata": {},
     "output_type": "execute_result"
    }
   ],
   "source": [
    "#giving range from end to get begining values\n",
    "city[:3]"
   ]
  },
  {
   "cell_type": "code",
   "execution_count": 87,
   "id": "919afd06",
   "metadata": {},
   "outputs": [
    {
     "data": {
      "text/plain": [
       "['satara', 'karad', 'islampur', 'pune']"
      ]
     },
     "execution_count": 87,
     "metadata": {},
     "output_type": "execute_result"
    }
   ],
   "source": [
    "#to get all values \n",
    "city[:]"
   ]
  },
  {
   "cell_type": "code",
   "execution_count": 88,
   "id": "c64f4a4f",
   "metadata": {},
   "outputs": [
    {
     "data": {
      "text/plain": [
       "['karad', 'islampur']"
      ]
     },
     "execution_count": 88,
     "metadata": {},
     "output_type": "execute_result"
    }
   ],
   "source": [
    "#to get in between values\n",
    "city[1:3]"
   ]
  },
  {
   "cell_type": "markdown",
   "id": "b8c9d8cb",
   "metadata": {},
   "source": [
    "# change vaulues in list"
   ]
  },
  {
   "cell_type": "code",
   "execution_count": 89,
   "id": "babb503e",
   "metadata": {},
   "outputs": [
    {
     "data": {
      "text/plain": [
       "['satara', 'karad', 'islampur', 'pune']"
      ]
     },
     "execution_count": 89,
     "metadata": {},
     "output_type": "execute_result"
    }
   ],
   "source": [
    "city"
   ]
  },
  {
   "cell_type": "code",
   "execution_count": 90,
   "id": "6d5fc22c",
   "metadata": {},
   "outputs": [
    {
     "data": {
      "text/plain": [
       "['satara', 'karad', 'islampur', 'mumbai']"
      ]
     },
     "execution_count": 90,
     "metadata": {},
     "output_type": "execute_result"
    }
   ],
   "source": [
    "city[3]=\"mumbai\"\n",
    "city"
   ]
  },
  {
   "cell_type": "markdown",
   "id": "0d6dd1bb",
   "metadata": {},
   "source": [
    "# delete "
   ]
  },
  {
   "cell_type": "code",
   "execution_count": 91,
   "id": "0fb1395b",
   "metadata": {},
   "outputs": [
    {
     "data": {
      "text/plain": [
       "['satara', 'islampur', 'mumbai']"
      ]
     },
     "execution_count": 91,
     "metadata": {},
     "output_type": "execute_result"
    }
   ],
   "source": [
    "#delete any value in list using del keyword\n",
    "del city[1]\n",
    "city"
   ]
  },
  {
   "cell_type": "code",
   "execution_count": 77,
   "id": "fea83011",
   "metadata": {},
   "outputs": [
    {
     "ename": "NameError",
     "evalue": "name 'city' is not defined",
     "output_type": "error",
     "traceback": [
      "\u001b[0;31m---------------------------------------------------------------------------\u001b[0m",
      "\u001b[0;31mNameError\u001b[0m                                 Traceback (most recent call last)",
      "\u001b[0;32m/var/folders/v8/088c1jn178q1q1c1_1b7jg000000gn/T/ipykernel_738/2110157092.py\u001b[0m in \u001b[0;36m<module>\u001b[0;34m\u001b[0m\n\u001b[1;32m      1\u001b[0m \u001b[0;31m#cannot delete entire list using delkeyword\u001b[0m\u001b[0;34m\u001b[0m\u001b[0;34m\u001b[0m\u001b[0m\n\u001b[1;32m      2\u001b[0m \u001b[0;32mdel\u001b[0m \u001b[0mcity\u001b[0m\u001b[0;34m\u001b[0m\u001b[0;34m\u001b[0m\u001b[0m\n\u001b[0;32m----> 3\u001b[0;31m \u001b[0mcity\u001b[0m\u001b[0;34m\u001b[0m\u001b[0;34m\u001b[0m\u001b[0m\n\u001b[0m",
      "\u001b[0;31mNameError\u001b[0m: name 'city' is not defined"
     ]
    }
   ],
   "source": [
    "#cannot delete entire list using delkeyword\n",
    "del city\n",
    "city"
   ]
  },
  {
   "cell_type": "markdown",
   "id": "58dde46c",
   "metadata": {},
   "source": [
    "# Methods"
   ]
  },
  {
   "cell_type": "markdown",
   "id": "b7abdb4d",
   "metadata": {},
   "source": [
    "# 1.append"
   ]
  },
  {
   "cell_type": "code",
   "execution_count": 92,
   "id": "76f61dee",
   "metadata": {},
   "outputs": [
    {
     "data": {
      "text/plain": [
       "['satara', 'islampur', 'mumbai', 'pune']"
      ]
     },
     "execution_count": 92,
     "metadata": {},
     "output_type": "execute_result"
    }
   ],
   "source": [
    "#1.append\n",
    "#adds an element at the end of the list\n",
    "city.append(\"pune\")\n",
    "city"
   ]
  },
  {
   "cell_type": "markdown",
   "id": "74a0cb54",
   "metadata": {},
   "source": [
    "# 2.count"
   ]
  },
  {
   "cell_type": "code",
   "execution_count": 93,
   "id": "965966a4",
   "metadata": {},
   "outputs": [
    {
     "data": {
      "text/plain": [
       "1"
      ]
     },
     "execution_count": 93,
     "metadata": {},
     "output_type": "execute_result"
    }
   ],
   "source": [
    "#2.count\n",
    "#return the number of elements with specified vales\n",
    "city\n",
    "x=city.count(\"satara\")\n",
    "x"
   ]
  },
  {
   "cell_type": "markdown",
   "id": "ff96e796",
   "metadata": {},
   "source": [
    "# 3.extend"
   ]
  },
  {
   "cell_type": "code",
   "execution_count": 94,
   "id": "6ebf7216",
   "metadata": {},
   "outputs": [
    {
     "data": {
      "text/plain": [
       "['satara', 'islampur', 'karad', 'karuna', 'chetan', 'vijay']"
      ]
     },
     "execution_count": 94,
     "metadata": {},
     "output_type": "execute_result"
    }
   ],
   "source": [
    "#3.extend\n",
    "#adds the element of list ,to the end of the current list\n",
    "city1=[\"satara\",\"islampur\",\"karad\"]\n",
    "name=[\"karuna\",\"chetan\",\"vijay\"]\n",
    "city1.extend(name)\n",
    "city1"
   ]
  },
  {
   "cell_type": "markdown",
   "id": "c03666db",
   "metadata": {},
   "source": [
    "# 4.insert"
   ]
  },
  {
   "cell_type": "code",
   "execution_count": 96,
   "id": "84c306ee",
   "metadata": {},
   "outputs": [
    {
     "data": {
      "text/plain": [
       "['satara', 'karuna', 'islampur', 'mumbai', 'pune']"
      ]
     },
     "execution_count": 96,
     "metadata": {},
     "output_type": "execute_result"
    }
   ],
   "source": [
    "#4.insert\n",
    "#adds the element at the specified position\n",
    "city.insert(1,\"karuna\")\n",
    "city"
   ]
  },
  {
   "cell_type": "code",
   "execution_count": 98,
   "id": "ebce3f5f",
   "metadata": {},
   "outputs": [
    {
     "data": {
      "text/plain": [
       "['satara', 'karuna', 'chetan', 'chetan', 'islampur', 'mumbai', 'pune']"
      ]
     },
     "execution_count": 98,
     "metadata": {},
     "output_type": "execute_result"
    }
   ],
   "source": [
    "city.insert(-3,\"chetan\")\n",
    "city"
   ]
  },
  {
   "cell_type": "markdown",
   "id": "410405a3",
   "metadata": {},
   "source": [
    "# 5.remove"
   ]
  },
  {
   "cell_type": "code",
   "execution_count": 99,
   "id": "0b7e2285",
   "metadata": {},
   "outputs": [
    {
     "data": {
      "text/plain": [
       "['satara', 'karuna', 'chetan', 'islampur', 'mumbai', 'pune']"
      ]
     },
     "execution_count": 99,
     "metadata": {},
     "output_type": "execute_result"
    }
   ],
   "source": [
    "#5. remove\n",
    "#remove the item with the specified value\n",
    "city.remove(\"chetan\")\n",
    "city"
   ]
  },
  {
   "cell_type": "markdown",
   "id": "fbe4c1ac",
   "metadata": {},
   "source": [
    "# 6.pop"
   ]
  },
  {
   "cell_type": "code",
   "execution_count": 100,
   "id": "becc9a88",
   "metadata": {},
   "outputs": [
    {
     "data": {
      "text/plain": [
       "['satara', 'karuna', 'chetan', 'islampur', 'pune']"
      ]
     },
     "execution_count": 100,
     "metadata": {},
     "output_type": "execute_result"
    }
   ],
   "source": [
    "#6.pop\n",
    "#removes the element at the specified (index) position\n",
    "city.pop(4)\n",
    "city"
   ]
  },
  {
   "cell_type": "code",
   "execution_count": 101,
   "id": "7569c5ee",
   "metadata": {},
   "outputs": [
    {
     "data": {
      "text/plain": [
       "['satara', 'karuna', 'chetan', 'islampur']"
      ]
     },
     "execution_count": 101,
     "metadata": {},
     "output_type": "execute_result"
    }
   ],
   "source": [
    "#if index is not given\n",
    "city.pop()\n",
    "city"
   ]
  },
  {
   "cell_type": "markdown",
   "id": "d13fb7ba",
   "metadata": {},
   "source": [
    "# 7.clear"
   ]
  },
  {
   "cell_type": "code",
   "execution_count": 103,
   "id": "e2aa3866",
   "metadata": {},
   "outputs": [
    {
     "data": {
      "text/plain": [
       "['k', 'a', 'r', 'u', 'n', 'a']"
      ]
     },
     "execution_count": 103,
     "metadata": {},
     "output_type": "execute_result"
    }
   ],
   "source": [
    "#7.clear\n",
    "#removes all the element of list\n",
    "#it is equal to del[:]\n",
    "list2"
   ]
  },
  {
   "cell_type": "code",
   "execution_count": 104,
   "id": "fbe87b31",
   "metadata": {},
   "outputs": [
    {
     "data": {
      "text/plain": [
       "[]"
      ]
     },
     "execution_count": 104,
     "metadata": {},
     "output_type": "execute_result"
    }
   ],
   "source": [
    "list2.clear()\n",
    "list2"
   ]
  },
  {
   "cell_type": "markdown",
   "id": "3e3515f5",
   "metadata": {},
   "source": [
    "# 8.index"
   ]
  },
  {
   "cell_type": "code",
   "execution_count": 105,
   "id": "73fa1df2",
   "metadata": {},
   "outputs": [
    {
     "data": {
      "text/plain": [
       "['satara', 'karuna', 'chetan', 'islampur']"
      ]
     },
     "execution_count": 105,
     "metadata": {},
     "output_type": "execute_result"
    }
   ],
   "source": [
    "#8.index\n",
    "#returns the index of the given element\n",
    "city"
   ]
  },
  {
   "cell_type": "code",
   "execution_count": 107,
   "id": "940e2105",
   "metadata": {},
   "outputs": [
    {
     "data": {
      "text/plain": [
       "1"
      ]
     },
     "execution_count": 107,
     "metadata": {},
     "output_type": "execute_result"
    }
   ],
   "source": [
    "city.index('karuna')"
   ]
  },
  {
   "cell_type": "code",
   "execution_count": 110,
   "id": "fbd8095a",
   "metadata": {},
   "outputs": [
    {
     "data": {
      "text/plain": [
       "10"
      ]
     },
     "execution_count": 110,
     "metadata": {},
     "output_type": "execute_result"
    }
   ],
   "source": [
    "#searching item from given index\n",
    "list3=[10,20,3,45,33,10,15,20,10,15,20]\n",
    "list3.index(20,8)"
   ]
  },
  {
   "cell_type": "code",
   "execution_count": 114,
   "id": "7b07d086",
   "metadata": {},
   "outputs": [
    {
     "data": {
      "text/plain": [
       "7"
      ]
     },
     "execution_count": 114,
     "metadata": {},
     "output_type": "execute_result"
    }
   ],
   "source": [
    "#giving negative index= searching from -ve index and return +ve index\n",
    "list3.index(20,-6)"
   ]
  },
  {
   "cell_type": "code",
   "execution_count": 115,
   "id": "f4d34a1f",
   "metadata": {},
   "outputs": [
    {
     "data": {
      "text/plain": [
       "5"
      ]
     },
     "execution_count": 115,
     "metadata": {},
     "output_type": "execute_result"
    }
   ],
   "source": [
    "#giving the index range from start to end \n",
    "#i.e. list.index(item,start_index,end_index)\n",
    "list3.index(10,1,6)"
   ]
  },
  {
   "cell_type": "code",
   "execution_count": 116,
   "id": "6ab76df4",
   "metadata": {},
   "outputs": [
    {
     "data": {
      "text/plain": [
       "8"
      ]
     },
     "execution_count": 116,
     "metadata": {},
     "output_type": "execute_result"
    }
   ],
   "source": [
    "#giving -ve index from start to end return +ve index\n",
    "list3.index(10,-4,-1)"
   ]
  },
  {
   "cell_type": "markdown",
   "id": "772c60ad",
   "metadata": {},
   "source": [
    "# 9.sort"
   ]
  },
  {
   "cell_type": "code",
   "execution_count": 118,
   "id": "5b8dd55a",
   "metadata": {},
   "outputs": [
    {
     "data": {
      "text/plain": [
       "[20, 43, 77, 35, 57, 21, 12, 79, 24, 36]"
      ]
     },
     "execution_count": 118,
     "metadata": {},
     "output_type": "execute_result"
    }
   ],
   "source": [
    "#9.sort\n",
    "#used to sort the element in ascending or descending order\n",
    "list1=[20,43,77,35,57,21,12,79,24,36]\n",
    "list1"
   ]
  },
  {
   "cell_type": "code",
   "execution_count": 119,
   "id": "fc2a6b19",
   "metadata": {},
   "outputs": [
    {
     "data": {
      "text/plain": [
       "[12, 20, 21, 24, 35, 36, 43, 57, 77, 79]"
      ]
     },
     "execution_count": 119,
     "metadata": {},
     "output_type": "execute_result"
    }
   ],
   "source": [
    "#ascending order\n",
    "list1.sort()\n",
    "list1"
   ]
  },
  {
   "cell_type": "code",
   "execution_count": 120,
   "id": "349c9365",
   "metadata": {},
   "outputs": [
    {
     "data": {
      "text/plain": [
       "[79, 77, 57, 43, 36, 35, 24, 21, 20, 12]"
      ]
     },
     "execution_count": 120,
     "metadata": {},
     "output_type": "execute_result"
    }
   ],
   "source": [
    "#descending order\n",
    "list1.sort(reverse=True)\n",
    "list1"
   ]
  },
  {
   "cell_type": "markdown",
   "id": "66c90bbb",
   "metadata": {},
   "source": [
    "# 10.reverse"
   ]
  },
  {
   "cell_type": "code",
   "execution_count": 121,
   "id": "eca8729e",
   "metadata": {},
   "outputs": [
    {
     "data": {
      "text/plain": [
       "[29, 59, 'karuna', 22, 24, 40]"
      ]
     },
     "execution_count": 121,
     "metadata": {},
     "output_type": "execute_result"
    }
   ],
   "source": [
    "#10.reverse\n",
    "#used to reverse the values of the list\n",
    "list1=[40,24,22,\"karuna\",59,29]\n",
    "list1.reverse()\n",
    "list1"
   ]
  },
  {
   "cell_type": "markdown",
   "id": "9ea3e1ce",
   "metadata": {},
   "source": [
    "# 11.copy"
   ]
  },
  {
   "cell_type": "code",
   "execution_count": 122,
   "id": "17b7cf33",
   "metadata": {},
   "outputs": [
    {
     "data": {
      "text/plain": [
       "[29, 59, 'karuna', 22, 24, 40]"
      ]
     },
     "execution_count": 122,
     "metadata": {},
     "output_type": "execute_result"
    }
   ],
   "source": [
    "#11.copy\n",
    "#used to make copy of list\n",
    "list2=list1.copy()\n",
    "list2"
   ]
  },
  {
   "cell_type": "markdown",
   "id": "6d33153c",
   "metadata": {},
   "source": [
    "# Function on list"
   ]
  },
  {
   "cell_type": "markdown",
   "id": "ce9ae3f4",
   "metadata": {},
   "source": [
    "# 1.len"
   ]
  },
  {
   "cell_type": "code",
   "execution_count": 123,
   "id": "3e0a74a7",
   "metadata": {},
   "outputs": [
    {
     "data": {
      "text/plain": [
       "6"
      ]
     },
     "execution_count": 123,
     "metadata": {},
     "output_type": "execute_result"
    }
   ],
   "source": [
    "#len\n",
    "#returns lenght of list\n",
    "len(list1)"
   ]
  },
  {
   "cell_type": "markdown",
   "id": "855b2807",
   "metadata": {},
   "source": [
    "# 2.max"
   ]
  },
  {
   "cell_type": "code",
   "execution_count": 125,
   "id": "29cb2b91",
   "metadata": {},
   "outputs": [
    {
     "data": {
      "text/plain": [
       "922"
      ]
     },
     "execution_count": 125,
     "metadata": {},
     "output_type": "execute_result"
    }
   ],
   "source": [
    "#max\n",
    "#returns the greatest value from list\n",
    "list1=[28,25,739,922,83,83]\n",
    "max(list1)"
   ]
  },
  {
   "cell_type": "markdown",
   "id": "e7a349bb",
   "metadata": {},
   "source": [
    "# 3.min"
   ]
  },
  {
   "cell_type": "code",
   "execution_count": 126,
   "id": "8d92f5b8",
   "metadata": {},
   "outputs": [
    {
     "data": {
      "text/plain": [
       "25"
      ]
     },
     "execution_count": 126,
     "metadata": {},
     "output_type": "execute_result"
    }
   ],
   "source": [
    "#min\n",
    "#returns the smallest value from the list\n",
    "min(list1)"
   ]
  },
  {
   "cell_type": "markdown",
   "id": "c5cc1309",
   "metadata": {},
   "source": [
    "# 4.sum"
   ]
  },
  {
   "cell_type": "code",
   "execution_count": 127,
   "id": "700bc12d",
   "metadata": {},
   "outputs": [
    {
     "data": {
      "text/plain": [
       "1880"
      ]
     },
     "execution_count": 127,
     "metadata": {},
     "output_type": "execute_result"
    }
   ],
   "source": [
    "#sum\n",
    "#returns the total of item in list\n",
    "sum(list1)"
   ]
  },
  {
   "cell_type": "code",
   "execution_count": null,
   "id": "07b9c8bb",
   "metadata": {},
   "outputs": [],
   "source": []
  }
 ],
 "metadata": {
  "kernelspec": {
   "display_name": "Python 3 (ipykernel)",
   "language": "python",
   "name": "python3"
  },
  "language_info": {
   "codemirror_mode": {
    "name": "ipython",
    "version": 3
   },
   "file_extension": ".py",
   "mimetype": "text/x-python",
   "name": "python",
   "nbconvert_exporter": "python",
   "pygments_lexer": "ipython3",
   "version": "3.9.13"
  }
 },
 "nbformat": 4,
 "nbformat_minor": 5
}
