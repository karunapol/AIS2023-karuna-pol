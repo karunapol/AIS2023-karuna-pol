{
 "cells": [
  {
   "cell_type": "markdown",
   "id": "41b790fa",
   "metadata": {},
   "source": [
    "# Set"
   ]
  },
  {
   "cell_type": "code",
   "execution_count": 1,
   "id": "fc87bdf5",
   "metadata": {},
   "outputs": [],
   "source": [
    "#set is an unordered collection of unique elements\n",
    "#enclosed with ()\n",
    "#set objects are mutable\n",
    "#duplicates are not allowed\n",
    "#inseertion order is not preserved so indexing and slicing is not allowed for sets"
   ]
  },
  {
   "cell_type": "markdown",
   "id": "53817b63",
   "metadata": {},
   "source": [
    "# Creation"
   ]
  },
  {
   "cell_type": "code",
   "execution_count": 2,
   "id": "7858ce26",
   "metadata": {},
   "outputs": [
    {
     "data": {
      "text/plain": [
       "{10, 30, 34, 72, 82}"
      ]
     },
     "execution_count": 2,
     "metadata": {},
     "output_type": "execute_result"
    }
   ],
   "source": [
    "#creating set with curly brackets{}\n",
    "#elements are seperated by comma ,\n",
    "set1={10,30,34,72,82}\n",
    "set1"
   ]
  },
  {
   "cell_type": "code",
   "execution_count": 3,
   "id": "38801f8b",
   "metadata": {},
   "outputs": [
    {
     "data": {
      "text/plain": [
       "{20, 38, 47, 49, 93}"
      ]
     },
     "execution_count": 3,
     "metadata": {},
     "output_type": "execute_result"
    }
   ],
   "source": [
    "#using set function\n",
    "set2=set({20,49,38,47,93})\n",
    "set2"
   ]
  },
  {
   "cell_type": "code",
   "execution_count": 5,
   "id": "bc8ea600",
   "metadata": {},
   "outputs": [
    {
     "data": {
      "text/plain": [
       "{'a', 'k', 'n', 'r', 'u'}"
      ]
     },
     "execution_count": 5,
     "metadata": {},
     "output_type": "execute_result"
    }
   ],
   "source": [
    "set3=set(\"karuna\")\n",
    "set3"
   ]
  },
  {
   "cell_type": "markdown",
   "id": "27c1a871",
   "metadata": {},
   "source": [
    "# Accessing set elements"
   ]
  },
  {
   "cell_type": "code",
   "execution_count": 9,
   "id": "434ac778",
   "metadata": {},
   "outputs": [
    {
     "name": "stdout",
     "output_type": "stream",
     "text": [
      "(2, 3)\n",
      "9\n",
      "4\n",
      "8\n"
     ]
    }
   ],
   "source": [
    "#access the element using looping statement \n",
    "s1={9,4,(2,3),8}\n",
    "for i in s1:\n",
    "    print(i)"
   ]
  },
  {
   "cell_type": "markdown",
   "id": "90360f44",
   "metadata": {},
   "source": [
    "# deleting set"
   ]
  },
  {
   "cell_type": "code",
   "execution_count": 10,
   "id": "c3ea1a50",
   "metadata": {},
   "outputs": [
    {
     "data": {
      "text/plain": [
       "{(2, 3), 4, 8, 9}"
      ]
     },
     "execution_count": 10,
     "metadata": {},
     "output_type": "execute_result"
    }
   ],
   "source": [
    "s1"
   ]
  },
  {
   "cell_type": "code",
   "execution_count": 11,
   "id": "b94b414d",
   "metadata": {},
   "outputs": [
    {
     "ename": "NameError",
     "evalue": "name 's1' is not defined",
     "output_type": "error",
     "traceback": [
      "\u001b[0;31m---------------------------------------------------------------------------\u001b[0m",
      "\u001b[0;31mNameError\u001b[0m                                 Traceback (most recent call last)",
      "\u001b[0;32m/var/folders/v8/088c1jn178q1q1c1_1b7jg000000gn/T/ipykernel_1741/479101526.py\u001b[0m in \u001b[0;36m<module>\u001b[0;34m\u001b[0m\n\u001b[1;32m      1\u001b[0m \u001b[0;31m# we can delete the set using del keyword\u001b[0m\u001b[0;34m\u001b[0m\u001b[0;34m\u001b[0m\u001b[0m\n\u001b[1;32m      2\u001b[0m \u001b[0;32mdel\u001b[0m \u001b[0ms1\u001b[0m\u001b[0;34m\u001b[0m\u001b[0;34m\u001b[0m\u001b[0m\n\u001b[0;32m----> 3\u001b[0;31m \u001b[0ms1\u001b[0m\u001b[0;34m\u001b[0m\u001b[0;34m\u001b[0m\u001b[0m\n\u001b[0m",
      "\u001b[0;31mNameError\u001b[0m: name 's1' is not defined"
     ]
    }
   ],
   "source": [
    "# we can delete the set using del keyword\n",
    "del s1\n",
    "s1"
   ]
  },
  {
   "cell_type": "markdown",
   "id": "9ec3274f",
   "metadata": {},
   "source": [
    "# methods on set"
   ]
  },
  {
   "cell_type": "markdown",
   "id": "675cef4b",
   "metadata": {},
   "source": [
    "# 1.union"
   ]
  },
  {
   "cell_type": "code",
   "execution_count": 13,
   "id": "6809ca02",
   "metadata": {},
   "outputs": [
    {
     "data": {
      "text/plain": [
       "{1, 2, 3, 4, 5, 6, 7, 8, 9}"
      ]
     },
     "execution_count": 13,
     "metadata": {},
     "output_type": "execute_result"
    }
   ],
   "source": [
    "#it returns the combination of 2 sets\n",
    "set1={1,2,3,4,5}\n",
    "set2={5,6,7,8,9}\n",
    "set1.union(set2)"
   ]
  },
  {
   "cell_type": "markdown",
   "id": "98ccbc72",
   "metadata": {},
   "source": [
    "# 2.Intersection"
   ]
  },
  {
   "cell_type": "code",
   "execution_count": 15,
   "id": "d80c7f2d",
   "metadata": {},
   "outputs": [
    {
     "data": {
      "text/plain": [
       "{5}"
      ]
     },
     "execution_count": 15,
     "metadata": {},
     "output_type": "execute_result"
    }
   ],
   "source": [
    "#it retuens the common elements of 2 sets\n",
    "set1.intersection(set2)"
   ]
  },
  {
   "cell_type": "markdown",
   "id": "621b332f",
   "metadata": {},
   "source": [
    "# difference"
   ]
  },
  {
   "cell_type": "code",
   "execution_count": 17,
   "id": "1003e474",
   "metadata": {},
   "outputs": [
    {
     "data": {
      "text/plain": [
       "{1, 2, 3, 4}"
      ]
     },
     "execution_count": 17,
     "metadata": {},
     "output_type": "execute_result"
    }
   ],
   "source": [
    "#It returns a set with elements which are not in all other sets\n",
    "set1.difference(set2)"
   ]
  },
  {
   "cell_type": "markdown",
   "id": "5c22f67c",
   "metadata": {},
   "source": [
    "# Mutation operations on set"
   ]
  },
  {
   "cell_type": "markdown",
   "id": "90da7e7c",
   "metadata": {},
   "source": [
    "# 1.add"
   ]
  },
  {
   "cell_type": "code",
   "execution_count": 19,
   "id": "7859513d",
   "metadata": {},
   "outputs": [
    {
     "data": {
      "text/plain": [
       "{10, 20, 30, 40, 50}"
      ]
     },
     "execution_count": 19,
     "metadata": {},
     "output_type": "execute_result"
    }
   ],
   "source": [
    "#It adds an element to the set\n",
    "s1={10,20,30,40}\n",
    "s1.add(50)\n",
    "s1"
   ]
  },
  {
   "cell_type": "markdown",
   "id": "f6fa8f7b",
   "metadata": {},
   "source": [
    "# 2.remove"
   ]
  },
  {
   "cell_type": "code",
   "execution_count": 21,
   "id": "45bc73df",
   "metadata": {},
   "outputs": [
    {
     "data": {
      "text/plain": [
       "{10, 20, 30, 40}"
      ]
     },
     "execution_count": 21,
     "metadata": {},
     "output_type": "execute_result"
    }
   ],
   "source": [
    "#It removes the element of set\n",
    "#if element not in set it shows error\n",
    "s1.remove(50)\n",
    "s1"
   ]
  },
  {
   "cell_type": "code",
   "execution_count": 23,
   "id": "85b27da3",
   "metadata": {},
   "outputs": [
    {
     "ename": "KeyError",
     "evalue": "60",
     "output_type": "error",
     "traceback": [
      "\u001b[0;31m---------------------------------------------------------------------------\u001b[0m",
      "\u001b[0;31mKeyError\u001b[0m                                  Traceback (most recent call last)",
      "\u001b[0;32m/var/folders/v8/088c1jn178q1q1c1_1b7jg000000gn/T/ipykernel_1741/3224693740.py\u001b[0m in \u001b[0;36m<module>\u001b[0;34m\u001b[0m\n\u001b[0;32m----> 1\u001b[0;31m \u001b[0ms1\u001b[0m\u001b[0;34m.\u001b[0m\u001b[0mremove\u001b[0m\u001b[0;34m(\u001b[0m\u001b[0;36m60\u001b[0m\u001b[0;34m)\u001b[0m\u001b[0;34m\u001b[0m\u001b[0;34m\u001b[0m\u001b[0m\n\u001b[0m\u001b[1;32m      2\u001b[0m \u001b[0ms1\u001b[0m\u001b[0;34m\u001b[0m\u001b[0;34m\u001b[0m\u001b[0m\n",
      "\u001b[0;31mKeyError\u001b[0m: 60"
     ]
    }
   ],
   "source": [
    "s1.remove(60)\n",
    "s1"
   ]
  },
  {
   "cell_type": "markdown",
   "id": "011e581c",
   "metadata": {},
   "source": [
    "# 3.discard"
   ]
  },
  {
   "cell_type": "code",
   "execution_count": 29,
   "id": "46066f01",
   "metadata": {},
   "outputs": [
    {
     "data": {
      "text/plain": [
       "{5, 15, 35, 45, 55, 65, 75}"
      ]
     },
     "execution_count": 29,
     "metadata": {},
     "output_type": "execute_result"
    }
   ],
   "source": [
    "#It removes the element from set\n",
    "s1=set(range(5,80,10))\n",
    "s1.discard(25)\n",
    "s1"
   ]
  },
  {
   "cell_type": "markdown",
   "id": "dc83ca75",
   "metadata": {},
   "source": [
    "# 4.pop"
   ]
  },
  {
   "cell_type": "code",
   "execution_count": 37,
   "id": "d9a48863",
   "metadata": {},
   "outputs": [
    {
     "data": {
      "text/plain": [
       "{10, 20, 30, 40, 50, 60, 80, 90}"
      ]
     },
     "execution_count": 37,
     "metadata": {},
     "output_type": "execute_result"
    }
   ],
   "source": [
    "#It removes and returns the removed element from set\n",
    "#no indexing so it removes random last elements\n",
    "s1=set(range(10,100,10))\n",
    "s1.pop()\n",
    "s1"
   ]
  },
  {
   "cell_type": "markdown",
   "id": "8e685ede",
   "metadata": {},
   "source": [
    "# clear"
   ]
  },
  {
   "cell_type": "code",
   "execution_count": 39,
   "id": "8ac229a8",
   "metadata": {},
   "outputs": [
    {
     "data": {
      "text/plain": [
       "{10, 20, 30, 40, 50, 60, 80, 90}"
      ]
     },
     "execution_count": 39,
     "metadata": {},
     "output_type": "execute_result"
    }
   ],
   "source": [
    "#It removes all values from set and make it empty\n",
    "s1"
   ]
  },
  {
   "cell_type": "code",
   "execution_count": 40,
   "id": "9ef9d75b",
   "metadata": {},
   "outputs": [
    {
     "data": {
      "text/plain": [
       "set()"
      ]
     },
     "execution_count": 40,
     "metadata": {},
     "output_type": "execute_result"
    }
   ],
   "source": [
    "s1.clear()\n",
    "s1"
   ]
  },
  {
   "cell_type": "markdown",
   "id": "2a5440c0",
   "metadata": {},
   "source": [
    "# Updation operations on sets"
   ]
  },
  {
   "cell_type": "markdown",
   "id": "edb3e018",
   "metadata": {},
   "source": [
    "# 1.update"
   ]
  },
  {
   "cell_type": "code",
   "execution_count": 43,
   "id": "5e6b006a",
   "metadata": {},
   "outputs": [
    {
     "data": {
      "text/plain": [
       "{10, 20, 30, 40, 50, 60, 70, 80}"
      ]
     },
     "execution_count": 43,
     "metadata": {},
     "output_type": "execute_result"
    }
   ],
   "source": [
    "#It adds elements from set2,.....,setn\n",
    "s1={10,20,30,40}\n",
    "s2={80,60,70,50}\n",
    "s1.update(s2)\n",
    "s1"
   ]
  },
  {
   "cell_type": "code",
   "execution_count": 45,
   "id": "ac4fac58",
   "metadata": {},
   "outputs": [
    {
     "data": {
      "text/plain": [
       "{10, 20, 30, 40, 50, 60, 70, 80}"
      ]
     },
     "execution_count": 45,
     "metadata": {},
     "output_type": "execute_result"
    }
   ],
   "source": [
    "#also it represnt in the symbol |=\n",
    "s1|=s2\n",
    "s1"
   ]
  },
  {
   "cell_type": "markdown",
   "id": "ab462ea2",
   "metadata": {},
   "source": [
    "# intersection_update"
   ]
  },
  {
   "cell_type": "code",
   "execution_count": 47,
   "id": "90b04f32",
   "metadata": {},
   "outputs": [
    {
     "data": {
      "text/plain": [
       "{40, 50}"
      ]
     },
     "execution_count": 47,
     "metadata": {},
     "output_type": "execute_result"
    }
   ],
   "source": [
    "#it returns the common element from all sets\n",
    "s1={10,20,30,40,50}\n",
    "s2={40,50,60,70,80}\n",
    "s1.intersection_update(s2)\n",
    "s1"
   ]
  },
  {
   "cell_type": "code",
   "execution_count": 48,
   "id": "de1d146f",
   "metadata": {},
   "outputs": [
    {
     "data": {
      "text/plain": [
       "{40, 50}"
      ]
     },
     "execution_count": 48,
     "metadata": {},
     "output_type": "execute_result"
    }
   ],
   "source": [
    "# also it represnt in the symbol &=\n",
    "s1&=s2\n",
    "s1"
   ]
  },
  {
   "cell_type": "markdown",
   "id": "80758564",
   "metadata": {},
   "source": [
    "# Function on Set"
   ]
  },
  {
   "cell_type": "markdown",
   "id": "c87df24c",
   "metadata": {},
   "source": [
    "# 1.len"
   ]
  },
  {
   "cell_type": "code",
   "execution_count": 51,
   "id": "a07345a0",
   "metadata": {},
   "outputs": [
    {
     "data": {
      "text/plain": [
       "11"
      ]
     },
     "execution_count": 51,
     "metadata": {},
     "output_type": "execute_result"
    }
   ],
   "source": [
    "#this returns number of element in set\n",
    "s1={70,38,57,2,83,85,793,0,39,3,6}\n",
    "len(s1)"
   ]
  },
  {
   "cell_type": "markdown",
   "id": "abe507b5",
   "metadata": {},
   "source": [
    "# 2.sum"
   ]
  },
  {
   "cell_type": "code",
   "execution_count": 53,
   "id": "ac4d15ce",
   "metadata": {},
   "outputs": [
    {
     "data": {
      "text/plain": [
       "1176"
      ]
     },
     "execution_count": 53,
     "metadata": {},
     "output_type": "execute_result"
    }
   ],
   "source": [
    "#returns the sum of element in the set\n",
    "sum(s1)"
   ]
  },
  {
   "cell_type": "markdown",
   "id": "e288f283",
   "metadata": {},
   "source": [
    "# 3.sorted"
   ]
  },
  {
   "cell_type": "code",
   "execution_count": 56,
   "id": "6c4a7dbc",
   "metadata": {},
   "outputs": [
    {
     "data": {
      "text/plain": [
       "[0, 29, 35, 49, 84, 85, 86, 98, 331]"
      ]
     },
     "execution_count": 56,
     "metadata": {},
     "output_type": "execute_result"
    }
   ],
   "source": [
    "#sorts the element of set in ascending or descending order\n",
    "#Ascending order\n",
    "s1={49,85,29,0,35,84,98,35,331,86,98}\n",
    "sorted(s1)"
   ]
  },
  {
   "cell_type": "code",
   "execution_count": 57,
   "id": "6a8ebad0",
   "metadata": {},
   "outputs": [
    {
     "data": {
      "text/plain": [
       "[331, 98, 86, 85, 84, 49, 35, 29, 0]"
      ]
     },
     "execution_count": 57,
     "metadata": {},
     "output_type": "execute_result"
    }
   ],
   "source": [
    "#Descending order\n",
    "sorted(s1,reverse=True)"
   ]
  },
  {
   "cell_type": "markdown",
   "id": "9fc642c7",
   "metadata": {},
   "source": [
    "# 4.max"
   ]
  },
  {
   "cell_type": "code",
   "execution_count": 59,
   "id": "5cc4fd35",
   "metadata": {},
   "outputs": [
    {
     "data": {
      "text/plain": [
       "331"
      ]
     },
     "execution_count": 59,
     "metadata": {},
     "output_type": "execute_result"
    }
   ],
   "source": [
    "#It returns the largest element from set\n",
    "max(s1)"
   ]
  },
  {
   "cell_type": "markdown",
   "id": "2ce1523e",
   "metadata": {},
   "source": [
    "# 5.min"
   ]
  },
  {
   "cell_type": "code",
   "execution_count": 61,
   "id": "b668a692",
   "metadata": {},
   "outputs": [
    {
     "data": {
      "text/plain": [
       "0"
      ]
     },
     "execution_count": 61,
     "metadata": {},
     "output_type": "execute_result"
    }
   ],
   "source": [
    "#It returns the smallest element from set\n",
    "min(s1)"
   ]
  },
  {
   "cell_type": "code",
   "execution_count": null,
   "id": "9ab7615f",
   "metadata": {},
   "outputs": [],
   "source": []
  }
 ],
 "metadata": {
  "kernelspec": {
   "display_name": "Python 3 (ipykernel)",
   "language": "python",
   "name": "python3"
  },
  "language_info": {
   "codemirror_mode": {
    "name": "ipython",
    "version": 3
   },
   "file_extension": ".py",
   "mimetype": "text/x-python",
   "name": "python",
   "nbconvert_exporter": "python",
   "pygments_lexer": "ipython3",
   "version": "3.9.13"
  }
 },
 "nbformat": 4,
 "nbformat_minor": 5
}
