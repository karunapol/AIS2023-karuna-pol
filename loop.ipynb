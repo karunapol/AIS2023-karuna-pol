{
 "cells": [
  {
   "cell_type": "code",
   "execution_count": 5,
   "id": "9188a65c",
   "metadata": {},
   "outputs": [
    {
     "name": "stdout",
     "output_type": "stream",
     "text": [
      "[1, 2, 3, 4, 5, 6, 7, 8, 9, 10, 11, 12, 13, 14, 15, 16, 17, 18, 19, 20]\n"
     ]
    }
   ],
   "source": [
    "#create list of 1 to 20 number using for loop\n",
    "lst = []\n",
    "for i in range(1,21):\n",
    "    lst.append(i)\n",
    "print(lst)  "
   ]
  },
  {
   "cell_type": "code",
   "execution_count": 6,
   "id": "da629fad",
   "metadata": {
    "scrolled": true
   },
   "outputs": [
    {
     "name": "stdout",
     "output_type": "stream",
     "text": [
      "20\n",
      "19\n",
      "18\n",
      "17\n",
      "16\n",
      "15\n",
      "14\n",
      "13\n",
      "12\n",
      "11\n",
      "10\n",
      "9\n",
      "8\n",
      "7\n",
      "6\n",
      "5\n",
      "4\n",
      "3\n",
      "2\n",
      "1\n",
      "0\n"
     ]
    }
   ],
   "source": [
    "# create list of 20 to q number using while loop\n",
    "# initialize the variable\n",
    "i = 20 \n",
    "while i >= 0:\n",
    "    print(i)\n",
    "    i = i - 1"
   ]
  },
  {
   "cell_type": "code",
   "execution_count": 7,
   "id": "24fbd15e",
   "metadata": {},
   "outputs": [
    {
     "name": "stdout",
     "output_type": "stream",
     "text": [
      "B grade\n"
     ]
    }
   ],
   "source": [
    "#conditional loop for checking grades\n",
    "marks=70\n",
    "if marks>90:\n",
    "    print(\"O grade\")\n",
    "elif marks>70:\n",
    "    print(\"A grade\")\n",
    "elif marks>60:\n",
    "    print(\"B grade\")\n",
    "elif marks>50:\n",
    "    print(\"C grade\")\n",
    "else:\n",
    "    print(\"fail\")"
   ]
  },
  {
   "cell_type": "code",
   "execution_count": 8,
   "id": "8b8311f5",
   "metadata": {},
   "outputs": [
    {
     "name": "stdout",
     "output_type": "stream",
     "text": [
      "Number is not Prime\n"
     ]
    }
   ],
   "source": [
    "#conditional loop for Prime number\n",
    "num = 9\n",
    "if num > 1:\n",
    "    for i in range(2, num):\n",
    "        if(num % i) == 0:\n",
    "            print('Number is not Prime')\n",
    "            break\n",
    "    else:\n",
    "        print('Number is Prime')"
   ]
  },
  {
   "cell_type": "code",
   "execution_count": 21,
   "id": "20dfa7f9",
   "metadata": {},
   "outputs": [
    {
     "name": "stdout",
     "output_type": "stream",
     "text": [
      "1\n",
      "3\n",
      "5\n",
      "7\n",
      "9\n",
      "11\n",
      "13\n",
      "15\n",
      "17\n",
      "19\n"
     ]
    }
   ],
   "source": [
    "#printing odd values using continue statement and for loop\n",
    "for i in range(1,20):\n",
    "    # checking condition\n",
    "    if (i%2 == 0):\n",
    "        continue\n",
    "    else:    \n",
    "        print(i)"
   ]
  },
  {
   "cell_type": "code",
   "execution_count": 5,
   "id": "a634fe41",
   "metadata": {},
   "outputs": [
    {
     "name": "stdout",
     "output_type": "stream",
     "text": [
      "A 1\n",
      "B 2\n",
      "C 3\n",
      "D 4\n",
      "E 5\n",
      "F 6\n",
      "G 7\n",
      "H 8\n",
      "I 9\n",
      "J 10\n",
      "K 11\n",
      "L 12\n",
      "M 13\n",
      "N 14\n",
      "O 15\n",
      "P 16\n",
      "Q 17\n",
      "R 18\n",
      "S 19\n",
      "T 20\n",
      "U 21\n",
      "V 22\n",
      "W 23\n",
      "X 24\n",
      "Y 25\n",
      "Z 26\n"
     ]
    }
   ],
   "source": [
    "\n",
    "x=('A','B','C','D','E','F','G','H','I','J','K','L','M','N','O','P','Q','R','S','T','U','V','W','X','Y','Z')\n",
    "c=1\n",
    "for i in range (len(x)):\n",
    "    print (x[i],c)\n",
    "    c+=1"
   ]
  },
  {
   "cell_type": "code",
   "execution_count": 2,
   "id": "7d6961fe",
   "metadata": {},
   "outputs": [
    {
     "name": "stdout",
     "output_type": "stream",
     "text": [
      "(5, 6, 4, 2, 3, 1)\n"
     ]
    }
   ],
   "source": [
    "#reverse tule without using reverse method\n",
    "T=(1,3,2,4,6,5)\n",
    "a = T[::-1]\n",
    "print(a)"
   ]
  },
  {
   "cell_type": "code",
   "execution_count": 13,
   "id": "9f83198a",
   "metadata": {},
   "outputs": [
    {
     "name": "stdout",
     "output_type": "stream",
     "text": [
      "python\n",
      "s\n",
      "t\n",
      "a\n",
      "t\n",
      "i\n",
      "python\n",
      "s\n",
      "t\n",
      "i\n",
      "c\n",
      "python\n",
      "s\n"
     ]
    }
   ],
   "source": [
    "#print statistics \n",
    "l=['s','t','a','t','i','s','t','i','c','s']\n",
    "for i in range (len(l)):\n",
    "    if l[i]=='s':\n",
    "        pass\n",
    "        print(\"python\")\n",
    "    print(l[i])   \n"
   ]
  },
  {
   "cell_type": "code",
   "execution_count": 19,
   "id": "d567613a",
   "metadata": {},
   "outputs": [
    {
     "name": "stdout",
     "output_type": "stream",
     "text": [
      "a\n",
      "b\n",
      "c\n",
      "d\n",
      "e\n",
      "f\n"
     ]
    }
   ],
   "source": [
    "#print every word and stop iteration after getting g letter\n",
    "l=['a','b','c','d','e','f','g','h','i']\n",
    "for i in range (len(l)):\n",
    "    if(l[i]=='g'):\n",
    "        break\n",
    "    print (l[i])"
   ]
  },
  {
   "cell_type": "code",
   "execution_count": null,
   "id": "e140812d",
   "metadata": {},
   "outputs": [],
   "source": []
  }
 ],
 "metadata": {
  "kernelspec": {
   "display_name": "Python 3 (ipykernel)",
   "language": "python",
   "name": "python3"
  },
  "language_info": {
   "codemirror_mode": {
    "name": "ipython",
    "version": 3
   },
   "file_extension": ".py",
   "mimetype": "text/x-python",
   "name": "python",
   "nbconvert_exporter": "python",
   "pygments_lexer": "ipython3",
   "version": "3.9.13"
  }
 },
 "nbformat": 4,
 "nbformat_minor": 5
}
